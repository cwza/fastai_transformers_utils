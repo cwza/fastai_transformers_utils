{
 "cells": [
  {
   "cell_type": "code",
   "execution_count": null,
   "metadata": {},
   "outputs": [],
   "source": [
    "%%capture\n",
    "#export\n",
    "from typing import *\n",
    "from fastcore.all import *\n",
    "from fastai2.basics import *\n",
    "\n",
    "from transformers import PreTrainedTokenizer, AutoTokenizer"
   ]
  },
  {
   "cell_type": "code",
   "execution_count": null,
   "metadata": {},
   "outputs": [],
   "source": [
    "# default_exp general"
   ]
  },
  {
   "cell_type": "markdown",
   "metadata": {},
   "source": [
    "# General\n",
    ">"
   ]
  },
  {
   "cell_type": "markdown",
   "metadata": {},
   "source": [
    "## Tokenizer"
   ]
  },
  {
   "cell_type": "code",
   "execution_count": null,
   "metadata": {},
   "outputs": [],
   "source": [
    "#export\n",
    "class TransformersTokenizer():\n",
    "    ''' fastai want the tokenizer can handle list of string.\n",
    "        use in parallel_gen() '''\n",
    "    def __init__(self, tokenizer: PreTrainedTokenizer):\n",
    "        self.tokenizer = tokenizer\n",
    "    def __call__(self, items: List[str]):\n",
    "        return map(self.tokenizer.tokenize, items)"
   ]
  },
  {
   "cell_type": "code",
   "execution_count": null,
   "metadata": {},
   "outputs": [],
   "source": [
    "tokenizer = AutoTokenizer.from_pretrained('bert-base-uncased')\n",
    "\n",
    "texts = ['This is a test', 'Just test']\n",
    "transfomersTokenizer = TransformersTokenizer(tokenizer)\n",
    "tok_texts = list(transfomersTokenizer(texts))\n",
    "\n",
    "test_eq(tok_texts, [['this', 'is', 'a', 'test'], ['just', 'test']])"
   ]
  },
  {
   "cell_type": "code",
   "execution_count": null,
   "metadata": {},
   "outputs": [
    {
     "data": {
      "text/html": [],
      "text/plain": [
       "<IPython.core.display.HTML object>"
      ]
     },
     "metadata": {},
     "output_type": "display_data"
    }
   ],
   "source": [
    "texts = ['This is a test', 'Just test']\n",
    "# parallel_gen will return generator of (0, ['this', 'is', 'a', 'test']), (1, ['just', 'test'])\n",
    "tok_texts = L(parallel_gen(TransformersTokenizer, texts, tokenizer=tokenizer)).sorted().itemgot(1)\n",
    "\n",
    "test_eq(tok_texts, [['this', 'is', 'a', 'test'],['just', 'test']])"
   ]
  },
  {
   "cell_type": "markdown",
   "metadata": {},
   "source": [
    "## Export - "
   ]
  },
  {
   "cell_type": "code",
   "execution_count": null,
   "metadata": {},
   "outputs": [
    {
     "name": "stdout",
     "output_type": "stream",
     "text": [
      "Converted 00_general.ipynb.\n",
      "Converted 01a_transforms.ipynb.\n",
      "Converted 01b_model_splits.ipynb.\n",
      "Converted 01c_callbacks.ipynb.\n",
      "Converted 99a_example_roberta_classification.ipynb.\n",
      "Converted 99b_example_gpt2_lm.ipynb.\n",
      "Converted index.ipynb.\n"
     ]
    }
   ],
   "source": [
    "#hide\n",
    "from nbdev.export import notebook2script\n",
    "notebook2script()"
   ]
  },
  {
   "cell_type": "code",
   "execution_count": null,
   "metadata": {},
   "outputs": [],
   "source": []
  }
 ],
 "metadata": {
  "kernelspec": {
   "display_name": "Python 3",
   "language": "python",
   "name": "python3"
  }
 },
 "nbformat": 4,
 "nbformat_minor": 4
}
