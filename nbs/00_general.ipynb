{
 "cells": [
  {
   "cell_type": "code",
   "execution_count": null,
   "metadata": {},
   "outputs": [],
   "source": [
    "%%capture\n",
    "#export\n",
    "from typing import *\n",
    "\n",
    "from fastai2.basics import *\n",
    "from fastai2.text.all import *\n",
    "\n",
    "from transformers import PreTrainedTokenizer, AutoTokenizer"
   ]
  },
  {
   "cell_type": "code",
   "execution_count": null,
   "metadata": {},
   "outputs": [],
   "source": [
    "# default_exp general"
   ]
  },
  {
   "cell_type": "markdown",
   "metadata": {},
   "source": [
    "# All functions\n",
    "> Now put all functions in this module. Consider split to multiple modules if we have more functions."
   ]
  },
  {
   "cell_type": "markdown",
   "metadata": {},
   "source": [
    "## Tokenizer"
   ]
  },
  {
   "cell_type": "code",
   "execution_count": null,
   "metadata": {},
   "outputs": [],
   "source": [
    "#export\n",
    "class TransformersTokenizer():\n",
    "    ''' fastai want the tokenizer can handle list of string.\n",
    "        use in parallel_gen() '''\n",
    "    def __init__(self, tokenizer: PreTrainedTokenizer):\n",
    "        self.tokenizer = tokenizer\n",
    "    def __call__(self, items: List[str]):\n",
    "        return map(self.tokenizer.tokenize, items)"
   ]
  },
  {
   "cell_type": "code",
   "execution_count": null,
   "metadata": {},
   "outputs": [],
   "source": [
    "tokenizer = AutoTokenizer.from_pretrained('bert-base-uncased')\n",
    "\n",
    "texts = ['This is a test', 'Just test']\n",
    "transfomersTokenizer = TransformersTokenizer(tokenizer)\n",
    "tok_texts = list(transfomersTokenizer(texts))\n",
    "\n",
    "test_eq(tok_texts, [['this', 'is', 'a', 'test'], ['just', 'test']])"
   ]
  },
  {
   "cell_type": "code",
   "execution_count": null,
   "metadata": {},
   "outputs": [
    {
     "data": {
      "text/html": [],
      "text/plain": [
       "<IPython.core.display.HTML object>"
      ]
     },
     "metadata": {},
     "output_type": "display_data"
    }
   ],
   "source": [
    "texts = ['This is a test', 'Just test']\n",
    "# parallel_gen will return generator of (0, ['this', 'is', 'a', 'test']), (1, ['just', 'test'])\n",
    "tok_texts = L(parallel_gen(TransformersTokenizer, texts, tokenizer=tokenizer)).itemgot(1)\n",
    "\n",
    "test_eq(tok_texts, [['this', 'is', 'a', 'test'],['just', 'test']])"
   ]
  },
  {
   "cell_type": "markdown",
   "metadata": {},
   "source": [
    "## Transform"
   ]
  },
  {
   "cell_type": "code",
   "execution_count": null,
   "metadata": {},
   "outputs": [],
   "source": [
    "#export\n",
    "class TransformersNumericalize(Transform):\n",
    "    def __init__(self, tokenizer: PreTrainedTokenizer):\n",
    "        self.tokenizer = tokenizer\n",
    "    def encodes(self, o):\n",
    "        ''' o: list of string token, returns: tensored list of int token '''\n",
    "        return TensorText(\n",
    "            self.tokenizer.build_inputs_with_special_tokens(\n",
    "                self.tokenizer.convert_tokens_to_ids(o)\n",
    "            )\n",
    "        )\n",
    "    def decodes(self, o):\n",
    "        return TitledStr(self.tokenizer.decode(o))"
   ]
  },
  {
   "cell_type": "code",
   "execution_count": null,
   "metadata": {},
   "outputs": [],
   "source": [
    "tok_list = ['this', 'is', 'a', 'test']\n",
    "num_list = TensorText([ 101, 2023, 2003, 1037, 3231,  102])\n",
    "transformersNumericalizer = TransformersNumericalize(tokenizer)\n",
    "\n",
    "test_eq(transformersNumericalizer.encodes(tok_list), num_list)\n",
    "test_eq(transformersNumericalizer.decodes(num_list), '[CLS] this is a test [SEP]')"
   ]
  },
  {
   "cell_type": "code",
   "execution_count": null,
   "metadata": {},
   "outputs": [],
   "source": [
    "#export\n",
    "class Pad2Max(Transform):\n",
    "    ''' pad rank one tensor by pad_idx to max_len, if original len is larger than max_len, truncate it\n",
    "    '''\n",
    "    def __init__(self, max_len, pad_idx):\n",
    "        self.max_len = max_len\n",
    "        self.pad_idx = pad_idx\n",
    "    def encodes(self, o):\n",
    "        ori_len = len(o)\n",
    "        result = o\n",
    "        if ori_len > self.max_len:\n",
    "            result = o[:self.max_len]\n",
    "        elif ori_len < self.max_len:\n",
    "            result = nn.functional.pad(o, [0, self.max_len-ori_len], value=self.pad_idx)\n",
    "        assert len(result) == self.max_len, f'len(o): {len(o)}, max_len: {self.max_len}'\n",
    "        return result\n",
    "    def decodes(self, o):\n",
    "        return TensorText([v for v in o if v != self.pad_idx])"
   ]
  },
  {
   "cell_type": "code",
   "execution_count": null,
   "metadata": {},
   "outputs": [],
   "source": [
    "pad2max = Pad2Max(10, 1)\n",
    "\n",
    "num_list = torch.tensor([ 101, 2023, 2003, 1037, 3231,  102])\n",
    "padded_num_list = torch.tensor([ 101, 2023, 2003, 1037, 3231,  102,    1,    1,    1,    1])\n",
    "test_eq(pad2max(num_list), padded_num_list)\n",
    "\n",
    "pad2max = Pad2Max(3, 1)\n",
    "num_list = torch.tensor([ 101, 2023, 2003, 1037, 3231,  102])\n",
    "padded_num_list = torch.tensor([ 101, 2023, 2003])\n",
    "test_eq(pad2max(num_list), padded_num_list)\n",
    "\n",
    "pad2max = Pad2Max(6, 1)\n",
    "num_list = torch.tensor([ 101, 2023, 2003, 1037, 3231,  102])\n",
    "padded_num_list = torch.tensor([ 101, 2023, 2003, 1037, 3231,  102])\n",
    "test_eq(pad2max(num_list), padded_num_list)"
   ]
  },
  {
   "cell_type": "markdown",
   "metadata": {},
   "source": [
    "## Splitter"
   ]
  },
  {
   "cell_type": "code",
   "execution_count": null,
   "metadata": {},
   "outputs": [],
   "source": [
    "#export\n",
    "''' Print the model, look at its architecture, then write down the split '''\n",
    "def bert_SeqClassification_split(m:nn.Module): \n",
    "    # 12 layers, 110M params\n",
    "    return L(m.bert.embeddings, *m.bert.encoder.layer, m.bert.pooler, m.classifier).map(params)\n",
    "def distilbert_SeqClassification_split(m:nn.Module): \n",
    "    # 6 layers, 66M params\n",
    "    return L(m.distilbert.embeddings, *m.distilbert.transformer.layer, m.pre_classifier, m.classifier).map(params)\n",
    "def albert_SeqClassification_split(m: nn.Module):\n",
    "    return L(m.albert.embeddings, *m.albert.encoder.albert_layer_groups, m.albert.pooler, m.classifier).map(params)\n",
    "def roberta_SeqClassification_split(m:nn.Module): \n",
    "    return L(m.roberta.embeddings, *m.roberta.encoder.layer, m.roberta.pooler, m.classifier).map(params)\n",
    "\n",
    "def gpt2_lmhead_split(m:nn.Module): \n",
    "    # 12-layer, 768-hidden, 12-heads, 117M parameters.\n",
    "    return L(m.transformer.wte, m.transformer.wpe, *m.transformer.h, m.lm_head).map(params)"
   ]
  },
  {
   "cell_type": "markdown",
   "metadata": {},
   "source": [
    "## Callback"
   ]
  },
  {
   "cell_type": "code",
   "execution_count": null,
   "metadata": {},
   "outputs": [],
   "source": [
    "class FakeLearner():\n",
    "    def __init__(self, cb, **kwargs):\n",
    "        for k, v in kwargs.items():\n",
    "            setattr(self, k, v)\n",
    "        cb.learn = self\n",
    "        self.cb = cb\n",
    "    \n",
    "    def run_cb(self, event_name):\n",
    "        getattr(self.cb, event_name)()"
   ]
  },
  {
   "cell_type": "code",
   "execution_count": null,
   "metadata": {},
   "outputs": [],
   "source": [
    "#export\n",
    "class GPT2LMHeadCallback(Callback):\n",
    "    '''The output of AutoModelWithLMHead is (last_hidden_state, past)\n",
    "        What fastai want is last_hidden_state '''\n",
    "    def after_pred(self):\n",
    "        last_hidden_state = self.learn.pred[0]\n",
    "        self.learn.pred = last_hidden_state"
   ]
  },
  {
   "cell_type": "code",
   "execution_count": null,
   "metadata": {},
   "outputs": [],
   "source": [
    "learn = FakeLearner(cb=GPT2LMHeadCallback(), pred=('last_hidden_state', 'past'))\n",
    "learn.run_cb('after_pred')\n",
    "test_eq(learn.pred, 'last_hidden_state')"
   ]
  },
  {
   "cell_type": "code",
   "execution_count": null,
   "metadata": {},
   "outputs": [],
   "source": [
    "#export\n",
    "class BertSeqClassificationCallback(Callback):\n",
    "    ''' It should be ok to use it in all Bert like model. eg: Roberta\n",
    "    '''\n",
    "    def __init__(self, pad_id: int):\n",
    "        self.pad_id = pad_id\n",
    "    \n",
    "    def begin_batch(self):\n",
    "        ''' Instead of input_ids, we need to pass the attention_mask to AutoModelForSequenceClassification to avoid it to attention to padding tokens.\n",
    "        '''\n",
    "        input_ids = self.learn.xb[0]\n",
    "        device = input_ids.device\n",
    "        attention_mask = torch.where(input_ids == self.pad_id, torch.tensor(0, device=device), torch.tensor(1, device=device)).to(input_ids)\n",
    "        self.learn.xb = [input_ids, attention_mask]\n",
    "    \n",
    "    def after_pred(self):\n",
    "        ''' The output of AutoModelForSequenceClassification is (logits, )\n",
    "            What fastai want is logits '''\n",
    "        logits = self.learn.pred[0]\n",
    "        self.learn.pred = logits"
   ]
  },
  {
   "cell_type": "code",
   "execution_count": null,
   "metadata": {},
   "outputs": [],
   "source": [
    "input_ids = torch.tensor([[4, 3, 1, 1], \n",
    "                          [5, 6, 7, 1]])\n",
    "attention_mask = torch.tensor([[1, 1, 0, 0], \n",
    "                               [1, 1, 1, 0]])\n",
    "\n",
    "learn = FakeLearner(cb=BertSeqClassificationCallback(pad_id=1), xb=(input_ids,))\n",
    "learn.run_cb('begin_batch')\n",
    "test_eq(learn.xb, (input_ids, attention_mask))\n",
    "\n",
    "learn = FakeLearner(cb=BertSeqClassificationCallback(pad_id=1), pred=('logits',))\n",
    "learn.run_cb('after_pred')\n",
    "test_eq(learn.pred, 'logits')"
   ]
  },
  {
   "cell_type": "markdown",
   "metadata": {},
   "source": [
    "## Export -"
   ]
  },
  {
   "cell_type": "code",
   "execution_count": null,
   "metadata": {},
   "outputs": [
    {
     "name": "stdout",
     "output_type": "stream",
     "text": [
      "Converted 00_general.ipynb.\n",
      "Converted 01_example_roberta_classification.ipynb.\n",
      "Converted 02_example_gpt2_lm.ipynb.\n",
      "Converted index.ipynb.\n"
     ]
    }
   ],
   "source": [
    "#hide\n",
    "from nbdev.export import notebook2script\n",
    "notebook2script()"
   ]
  },
  {
   "cell_type": "code",
   "execution_count": null,
   "metadata": {},
   "outputs": [],
   "source": []
  }
 ],
 "metadata": {
  "kernelspec": {
   "display_name": "Python 3",
   "language": "python",
   "name": "python3"
  }
 },
 "nbformat": 4,
 "nbformat_minor": 2
}
