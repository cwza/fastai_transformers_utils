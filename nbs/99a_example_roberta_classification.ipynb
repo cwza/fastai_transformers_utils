{
 "cells": [
  {
   "cell_type": "code",
   "execution_count": null,
   "metadata": {},
   "outputs": [],
   "source": [
    "%%capture\n",
    "from fastai_transformers_utils.all import TransformersTokenizer, TransformersNumericalize, Pad2Max, BertSeqClassificationCallback, roberta_SeqClassification_split\n",
    "\n",
    "import json\n",
    "from typing import *\n",
    "from fastai2.basics import *\n",
    "from fastai2.text.all import *\n",
    "from fastai2.callback.all import *\n",
    "\n",
    "from transformers import AutoConfig, AutoTokenizer, AutoModelForSequenceClassification, RobertaForSequenceClassification, RobertaTokenizer"
   ]
  },
  {
   "cell_type": "code",
   "execution_count": null,
   "metadata": {},
   "outputs": [],
   "source": [
    "# all_slow"
   ]
  },
  {
   "cell_type": "markdown",
   "metadata": {},
   "source": [
    "# Example: Roberta Classification on IMDB_SAMPLE\n",
    "> This is also an integration test."
   ]
  },
  {
   "cell_type": "code",
   "execution_count": null,
   "metadata": {},
   "outputs": [],
   "source": [
    "num_class = 2\n",
    "# model_name = 'bert-base-uncased'\n",
    "# model_name = 'distilbert-base-uncased'\n",
    "# model_name = 'albert-base-v2'\n",
    "model_name = 'roberta-base'\n",
    "max_len = 150"
   ]
  },
  {
   "cell_type": "code",
   "execution_count": null,
   "metadata": {},
   "outputs": [],
   "source": [
    "tokenizer = AutoTokenizer.from_pretrained(model_name)"
   ]
  },
  {
   "cell_type": "markdown",
   "metadata": {},
   "source": [
    "## Data and Tokenization"
   ]
  },
  {
   "cell_type": "code",
   "execution_count": null,
   "metadata": {},
   "outputs": [
    {
     "data": {
      "text/html": [
       "<div>\n",
       "<style scoped>\n",
       "    .dataframe tbody tr th:only-of-type {\n",
       "        vertical-align: middle;\n",
       "    }\n",
       "\n",
       "    .dataframe tbody tr th {\n",
       "        vertical-align: top;\n",
       "    }\n",
       "\n",
       "    .dataframe thead th {\n",
       "        text-align: right;\n",
       "    }\n",
       "</style>\n",
       "<table border=\"1\" class=\"dataframe\">\n",
       "  <thead>\n",
       "    <tr style=\"text-align: right;\">\n",
       "      <th></th>\n",
       "      <th>label</th>\n",
       "      <th>text</th>\n",
       "      <th>is_valid</th>\n",
       "    </tr>\n",
       "  </thead>\n",
       "  <tbody>\n",
       "    <tr>\n",
       "      <th>0</th>\n",
       "      <td>negative</td>\n",
       "      <td>Un-bleeping-believable! Meg Ryan doesn't even look her usual pert lovable self in this, which normally makes me forgive her shallow ticky acting schtick. Hard to believe she was the producer on this dog. Plus Kevin Kline: what kind of suicide trip has his career been on? Whoosh... Banzai!!! Finally this was directed by the guy who did Big Chill? Must be a replay of Jonestown - hollywood style. Wooofff!</td>\n",
       "      <td>False</td>\n",
       "    </tr>\n",
       "    <tr>\n",
       "      <th>1</th>\n",
       "      <td>positive</td>\n",
       "      <td>This is a extremely well-made film. The acting, script and camera-work are all first-rate. The music is good, too, though it is mostly early in the film, when things are still relatively cheery. There are no really superstars in the cast, though several faces will be familiar. The entire cast does an excellent job with the script.&lt;br /&gt;&lt;br /&gt;But it is hard to watch, because there is no good end to a situation like the one presented. It is now fashionable to blame the British for setting Hindus and Muslims against each other, and then cruelly separating them into two countries. There is som...</td>\n",
       "      <td>False</td>\n",
       "    </tr>\n",
       "    <tr>\n",
       "      <th>2</th>\n",
       "      <td>negative</td>\n",
       "      <td>Every once in a long while a movie will come along that will be so awful that I feel compelled to warn people. If I labor all my days and I can save but one soul from watching this movie, how great will be my joy.&lt;br /&gt;&lt;br /&gt;Where to begin my discussion of pain. For starters, there was a musical montage every five minutes. There was no character development. Every character was a stereotype. We had swearing guy, fat guy who eats donuts, goofy foreign guy, etc. The script felt as if it were being written as the movie was being shot. The production value was so incredibly low that it felt li...</td>\n",
       "      <td>False</td>\n",
       "    </tr>\n",
       "    <tr>\n",
       "      <th>3</th>\n",
       "      <td>positive</td>\n",
       "      <td>Name just says it all. I watched this movie with my dad when it came out and having served in Korea he had great admiration for the man. The disappointing thing about this film is that it only concentrate on a short period of the man's life - interestingly enough the man's entire life would have made such an epic bio-pic that it is staggering to imagine the cost for production.&lt;br /&gt;&lt;br /&gt;Some posters elude to the flawed characteristics about the man, which are cheap shots. The theme of the movie \"Duty, Honor, Country\" are not just mere words blathered from the lips of a high-brassed offic...</td>\n",
       "      <td>False</td>\n",
       "    </tr>\n",
       "    <tr>\n",
       "      <th>4</th>\n",
       "      <td>negative</td>\n",
       "      <td>This movie succeeds at being one of the most unique movies you've seen. However this comes from the fact that you can't make heads or tails of this mess. It almost seems as a series of challenges set up to determine whether or not you are willing to walk out of the movie and give up the money you just paid. If you don't want to feel slighted you'll sit through this horrible film and develop a real sense of pity for the actors involved, they've all seen better days, but then you realize they actually got paid quite a bit of money to do this and you'll lose pity for them just like you've alr...</td>\n",
       "      <td>False</td>\n",
       "    </tr>\n",
       "  </tbody>\n",
       "</table>\n",
       "</div>"
      ],
      "text/plain": [
       "      label  ... is_valid\n",
       "0  negative  ...    False\n",
       "1  positive  ...    False\n",
       "2  negative  ...    False\n",
       "3  positive  ...    False\n",
       "4  negative  ...    False\n",
       "\n",
       "[5 rows x 3 columns]"
      ]
     },
     "execution_count": null,
     "metadata": {},
     "output_type": "execute_result"
    }
   ],
   "source": [
    "path = untar_data(URLs.IMDB_SAMPLE)\n",
    "df = pd.read_csv(path/'texts.csv')\n",
    "df.head()"
   ]
  },
  {
   "cell_type": "code",
   "execution_count": null,
   "metadata": {},
   "outputs": [
    {
     "data": {
      "text/html": [],
      "text/plain": [
       "<IPython.core.display.HTML object>"
      ]
     },
     "metadata": {},
     "output_type": "display_data"
    },
    {
     "data": {
      "text/html": [
       "<div>\n",
       "<style scoped>\n",
       "    .dataframe tbody tr th:only-of-type {\n",
       "        vertical-align: middle;\n",
       "    }\n",
       "\n",
       "    .dataframe tbody tr th {\n",
       "        vertical-align: top;\n",
       "    }\n",
       "\n",
       "    .dataframe thead th {\n",
       "        text-align: right;\n",
       "    }\n",
       "</style>\n",
       "<table border=\"1\" class=\"dataframe\">\n",
       "  <thead>\n",
       "    <tr style=\"text-align: right;\">\n",
       "      <th></th>\n",
       "      <th>label</th>\n",
       "      <th>text</th>\n",
       "      <th>is_valid</th>\n",
       "    </tr>\n",
       "  </thead>\n",
       "  <tbody>\n",
       "    <tr>\n",
       "      <th>0</th>\n",
       "      <td>negative</td>\n",
       "      <td>Un - ble eping - bel iev able ! ĠMeg ĠRyan Ġdoesn 't Ġeven Ġlook Ġher Ġusual Ġpert Ġl ovable Ġself Ġin Ġthis , Ġwhich Ġnormally Ġmakes Ġme Ġforgive Ġher Ġshallow Ġtick y Ġacting Ġsch tick . ĠHard Ġto Ġbelieve Ġshe Ġwas Ġthe Ġproducer Ġon Ġthis Ġdog . ĠPlus ĠKevin ĠK line : Ġwhat Ġkind Ġof Ġsuicide Ġtrip Ġhas Ġhis Ġcareer Ġbeen Ġon ? ĠWho osh ... ĠBan zai !!! ĠFinally Ġthis Ġwas Ġdirected Ġby Ġthe Ġguy Ġwho Ġdid ĠBig ĠChill ? ĠMust Ġbe Ġa Ġreplay Ġof ĠJon est own Ġ- Ġh ollywood Ġstyle . ĠWoo off f !</td>\n",
       "      <td>False</td>\n",
       "    </tr>\n",
       "    <tr>\n",
       "      <th>1</th>\n",
       "      <td>positive</td>\n",
       "      <td>This Ġis Ġa Ġextremely Ġwell - made Ġfilm . ĠThe Ġacting , Ġscript Ġand Ġcamera - work Ġare Ġall Ġfirst - rate . ĠThe Ġmusic Ġis Ġgood , Ġtoo , Ġthough Ġit Ġis Ġmostly Ġearly Ġin Ġthe Ġfilm , Ġwhen Ġthings Ġare Ġstill Ġrelatively Ġche ery . ĠThere Ġare Ġno Ġreally Ġsuperst ars Ġin Ġthe Ġcast , Ġthough Ġseveral Ġfaces Ġwill Ġbe Ġfamiliar . ĠThe Ġentire Ġcast Ġdoes Ġan Ġexcellent Ġjob Ġwith Ġthe Ġscript .&lt; br Ġ/ &gt;&lt; br Ġ/&gt; But Ġit Ġis Ġhard Ġto Ġwatch , Ġbecause Ġthere Ġis Ġno Ġgood Ġend Ġto Ġa Ġsituation Ġlike Ġthe Ġone Ġpresented . ĠIt Ġis Ġnow Ġfashionable Ġto Ġblame Ġthe ĠBritish Ġfor Ġse...</td>\n",
       "      <td>False</td>\n",
       "    </tr>\n",
       "    <tr>\n",
       "      <th>2</th>\n",
       "      <td>negative</td>\n",
       "      <td>Every Ġonce Ġin Ġa Ġlong Ġwhile Ġa Ġmovie Ġwill Ġcome Ġalong Ġthat Ġwill Ġbe Ġso Ġawful Ġthat ĠI Ġfeel Ġcompelled Ġto Ġwarn Ġpeople . ĠIf ĠI Ġlabor Ġall Ġmy Ġdays Ġand ĠI Ġcan Ġsave Ġbut Ġone Ġsoul Ġfrom Ġwatching Ġthis Ġmovie , Ġhow Ġgreat Ġwill Ġbe Ġmy Ġjoy .&lt; br Ġ/ &gt;&lt; br Ġ/&gt; Where Ġto Ġbegin Ġmy Ġdiscussion Ġof Ġpain . ĠFor Ġstarters , Ġthere Ġwas Ġa Ġmusical Ġmont age Ġevery Ġfive Ġminutes . ĠThere Ġwas Ġno Ġcharacter Ġdevelopment . ĠEvery Ġcharacter Ġwas Ġa Ġstereotype . ĠWe Ġhad Ġswearing Ġguy , Ġfat Ġguy Ġwho Ġeats Ġdon uts , Ġgoofy Ġforeign Ġguy , Ġetc . ĠThe Ġscript Ġfelt Ġas Ġif ...</td>\n",
       "      <td>False</td>\n",
       "    </tr>\n",
       "    <tr>\n",
       "      <th>3</th>\n",
       "      <td>positive</td>\n",
       "      <td>Name Ġjust Ġsays Ġit Ġall . ĠI Ġwatched Ġthis Ġmovie Ġwith Ġmy Ġdad Ġwhen Ġit Ġcame Ġout Ġand Ġhaving Ġserved Ġin ĠKorea Ġhe Ġhad Ġgreat Ġadmiration Ġfor Ġthe Ġman . ĠThe Ġdisappointing Ġthing Ġabout Ġthis Ġfilm Ġis Ġthat Ġit Ġonly Ġconcentrate Ġon Ġa Ġshort Ġperiod Ġof Ġthe Ġman 's Ġlife Ġ- Ġinterestingly Ġenough Ġthe Ġman 's Ġentire Ġlife Ġwould Ġhave Ġmade Ġsuch Ġan Ġepic Ġbio - pic Ġthat Ġit Ġis Ġstaggering Ġto Ġimagine Ġthe Ġcost Ġfor Ġproduction .&lt; br Ġ/ &gt;&lt; br Ġ/&gt; Some Ġposters Ġel ude Ġto Ġthe Ġflawed Ġcharacteristics Ġabout Ġthe Ġman , Ġwhich Ġare Ġcheap Ġshots . ĠThe Ġtheme Ġof Ġt...</td>\n",
       "      <td>False</td>\n",
       "    </tr>\n",
       "    <tr>\n",
       "      <th>4</th>\n",
       "      <td>negative</td>\n",
       "      <td>This Ġmovie Ġsucceeds Ġat Ġbeing Ġone Ġof Ġthe Ġmost Ġunique Ġmovies Ġyou 've Ġseen . ĠHowever Ġthis Ġcomes Ġfrom Ġthe Ġfact Ġthat Ġyou Ġcan 't Ġmake Ġheads Ġor Ġtails Ġof Ġthis Ġmess . ĠIt Ġalmost Ġseems Ġas Ġa Ġseries Ġof Ġchallenges Ġset Ġup Ġto Ġdetermine Ġwhether Ġor Ġnot Ġyou Ġare Ġwilling Ġto Ġwalk Ġout Ġof Ġthe Ġmovie Ġand Ġgive Ġup Ġthe Ġmoney Ġyou Ġjust Ġpaid . ĠIf Ġyou Ġdon 't Ġwant Ġto Ġfeel Ġslight ed Ġyou 'll Ġsit Ġthrough Ġthis Ġhorrible Ġfilm Ġand Ġdevelop Ġa Ġreal Ġsense Ġof Ġpity Ġfor Ġthe Ġactors Ġinvolved , Ġthey 've Ġall Ġseen Ġbetter Ġdays , Ġbut Ġthen Ġyou Ġrealize Ġ...</td>\n",
       "      <td>False</td>\n",
       "    </tr>\n",
       "  </tbody>\n",
       "</table>\n",
       "</div>"
      ],
      "text/plain": [
       "      label  ... is_valid\n",
       "0  negative  ...    False\n",
       "1  positive  ...    False\n",
       "2  negative  ...    False\n",
       "3  positive  ...    False\n",
       "4  negative  ...    False\n",
       "\n",
       "[5 rows x 3 columns]"
      ]
     },
     "execution_count": null,
     "metadata": {},
     "output_type": "execute_result"
    }
   ],
   "source": [
    "tok_list = L(parallel_gen(TransformersTokenizer, df.text, tokenizer=tokenizer)\n",
    "            ).sorted().itemgot(1)\n",
    "tok_df = df.copy()\n",
    "tok_df.text =  tok_list.map(lambda x: ' '.join(x)) # split tokens by ' '\n",
    "tok_df.head()"
   ]
  },
  {
   "cell_type": "code",
   "execution_count": null,
   "metadata": {},
   "outputs": [],
   "source": [
    "# tok_df.to_csv(f'{model_name}_tok.csv', index=False)\n",
    "# tok_df = pd.read_csv(f'{model_name}_tok.csv')"
   ]
  },
  {
   "cell_type": "markdown",
   "metadata": {},
   "source": [
    "## DataLoaders "
   ]
  },
  {
   "cell_type": "code",
   "execution_count": null,
   "metadata": {},
   "outputs": [
    {
     "data": {
      "text/plain": [
       "((TensorText([    0,  9685,    12,  5225, 24320,    12,  8494, 18421,   868,   328,\n",
       "          14938,  1774,   630,    75,   190,   356,    69,  4505, 32819,   784,\n",
       "          30289,  1403,    11,    42,     6,    61,  6329,   817,   162, 20184,\n",
       "             69, 16762, 10457,   219,  3501,  8447, 41791,     4,  6206,     7,\n",
       "            679,    79,    21,     5,  3436,    15,    42,  2335,     4,  4642,\n",
       "           2363,   229,  1902,    35,    99,   761,     9,  4260,  1805,    34,\n",
       "             39,   756,    57,    15,   116,  3394,  5212,   734,  5981, 23642,\n",
       "          16506,  3347,    42,    21,  3660,    30,     5,  2173,    54,   222,\n",
       "           1776, 25928,   116,  8495,    28,    10, 16462,     9,  4160,   990,\n",
       "           3355,   111,  1368,  9718,  2496,     4, 29935,  1529,   506,   328,\n",
       "              2,     1,     1,     1,     1,     1,     1,     1,     1,     1,\n",
       "              1,     1,     1,     1,     1,     1,     1,     1,     1,     1,\n",
       "              1,     1,     1,     1,     1,     1,     1,     1,     1,     1,\n",
       "              1,     1,     1,     1,     1,     1,     1,     1,     1,     1,\n",
       "              1,     1,     1,     1,     1,     1,     1,     1,     1,     1]),\n",
       "  TensorCategory(0)),\n",
       " (\"<s>Un-bleeping-believable! Meg Ryan doesn't even look her usual pert lovable self in this, which normally makes me forgive her shallow ticky acting schtick. Hard to believe she was the producer on this dog. Plus Kevin Kline: what kind of suicide trip has his career been on? Whoosh... Banzai!!! Finally this was directed by the guy who did Big Chill? Must be a replay of Jonestown - hollywood style. Wooofff!</s>\",\n",
       "  'negative'))"
      ]
     },
     "execution_count": null,
     "metadata": {},
     "output_type": "execute_result"
    }
   ],
   "source": [
    "splits = ColSplitter()(tok_df)\n",
    "ds_tfms = [\n",
    "    [attrgetter('text'), lambda x: x.split(' '), TransformersNumericalize(tokenizer), Pad2Max(max_len, tokenizer.pad_token_id)], \n",
    "    [attrgetter(\"label\"), Categorize()]\n",
    "]\n",
    "dss = Datasets(tok_df, tfms=ds_tfms, splits=splits)\n",
    "dss.train[0], dss.decode(dss.train[0])"
   ]
  },
  {
   "cell_type": "code",
   "execution_count": null,
   "metadata": {},
   "outputs": [
    {
     "name": "stdout",
     "output_type": "stream",
     "text": [
      "torch.Size([2, 150]) torch.int64 cuda:0\n",
      "torch.Size([2]) torch.int64 cuda:0\n"
     ]
    }
   ],
   "source": [
    "def get_dataloaders(dss, bs: int):\n",
    "    return dss.dataloaders(bs=bs)\n",
    "\n",
    "dls = get_dataloaders(dss, bs=2)\n",
    "# for x in dls.train:\n",
    "#     print(x[0].shape, x[0].dtype, x[0].device)\n",
    "#     print(x[1].shape, x[1].dtype, x[1].device)\n",
    "#     break"
   ]
  },
  {
   "cell_type": "code",
   "execution_count": null,
   "metadata": {},
   "outputs": [
    {
     "data": {
      "text/html": [
       "<table border=\"1\" class=\"dataframe\">\n",
       "  <thead>\n",
       "    <tr style=\"text-align: right;\">\n",
       "      <th></th>\n",
       "      <th>text</th>\n",
       "      <th>category</th>\n",
       "    </tr>\n",
       "  </thead>\n",
       "  <tbody>\n",
       "    <tr>\n",
       "      <th>0</th>\n",
       "      <td>&lt;s&gt;This was another obscure Christmas-related title, a low-budget Mexican production from exploitation film-maker Cardona (NIGHT OF THE BLOODY APES [1969], TINTORERA! [1977]), which  like many a genre effort from this country  was acquired for release in the U.S. by K. Gordon Murray. Judging by those two efforts already mentioned, Cardona was no visionary  and, this one having already received its share of flak over here, is certainly no better! The film, in fact, is quite redolent of the weirdness which characterized Mexican horror outings from the era, but given an added dimension by virtue of the garish color (which, in view of</td>\n",
       "      <td>negative</td>\n",
       "    </tr>\n",
       "    <tr>\n",
       "      <th>1</th>\n",
       "      <td>&lt;s&gt;This movie was absolutely wonderful. The pre-partition time and culture has been recreated beautifully. Urmila has given yet another brilliant performance. What I truly admire about this movie is that it doesn't resort to Pakistan-bashing that is running rampant in movies like Gadar and LOC. With the partition as a backdrop, the movie does not divert to political issues or focus on violence or what is right and wrong. The movie always centers around the tragic story of Urmila's life. Her fragile relationship with Manoj Bajpai has been depicted excellently. The movie actually shows how the people, both Hindus and Muslims, have suffered from this partition. The theme that there is only one religion is truly prevalent in this</td>\n",
       "      <td>positive</td>\n",
       "    </tr>\n",
       "  </tbody>\n",
       "</table>"
      ],
      "text/plain": [
       "<IPython.core.display.HTML object>"
      ]
     },
     "metadata": {},
     "output_type": "display_data"
    }
   ],
   "source": [
    "dls.show_batch(max_n=2)"
   ]
  },
  {
   "cell_type": "markdown",
   "metadata": {},
   "source": [
    "## Learner and Train"
   ]
  },
  {
   "cell_type": "code",
   "execution_count": null,
   "metadata": {},
   "outputs": [
    {
     "data": {
      "application/vnd.jupyter.widget-view+json": {
       "model_id": "a039ca879c0349638c1925938083e0b9",
       "version_major": 2,
       "version_minor": 0
      },
      "text/plain": [
       "HBox(children=(IntProgress(value=0, description='Downloading', max=501200538, style=ProgressStyle(description_…"
      ]
     },
     "metadata": {},
     "output_type": "display_data"
    },
    {
     "name": "stdout",
     "output_type": "stream",
     "text": [
      "\n"
     ]
    }
   ],
   "source": [
    "dbunch = get_dataloaders(dss, bs=64)\n",
    "model = AutoModelForSequenceClassification.from_pretrained(model_name)\n",
    "model.config.num_labels=num_class\n",
    "learn = Learner(dls, \n",
    "                model, \n",
    "                loss_func=CrossEntropyLossFlat(), \n",
    "                opt_func=ranger,\n",
    "                splitter=roberta_SeqClassification_split, \n",
    "                cbs=[BertSeqClassificationCallback(tokenizer.pad_token_id)],\n",
    "                metrics=[accuracy],\n",
    "               )"
   ]
  },
  {
   "cell_type": "code",
   "execution_count": null,
   "metadata": {},
   "outputs": [
    {
     "data": {
      "text/plain": [
       "RobertaForSequenceClassification (Input shape: ['2 x 150'])\n",
       "================================================================\n",
       "Layer (type)         Output Shape         Param #    Trainable \n",
       "================================================================\n",
       "Embedding            2 x 150 x 768        38,603,520 False     \n",
       "________________________________________________________________\n",
       "Embedding            2 x 150 x 768        394,752    False     \n",
       "________________________________________________________________\n",
       "Embedding            2 x 150 x 768        768        False     \n",
       "________________________________________________________________\n",
       "LayerNorm            2 x 150 x 768        1,536      False     \n",
       "________________________________________________________________\n",
       "Dropout              2 x 150 x 768        0          False     \n",
       "________________________________________________________________\n",
       "Linear               2 x 150 x 768        590,592    False     \n",
       "________________________________________________________________\n",
       "Linear               2 x 150 x 768        590,592    False     \n",
       "________________________________________________________________\n",
       "Linear               2 x 150 x 768        590,592    False     \n",
       "________________________________________________________________\n",
       "Dropout              2 x 12 x 150 x 150   0          False     \n",
       "________________________________________________________________\n",
       "Linear               2 x 150 x 768        590,592    False     \n",
       "________________________________________________________________\n",
       "LayerNorm            2 x 150 x 768        1,536      False     \n",
       "________________________________________________________________\n",
       "Dropout              2 x 150 x 768        0          False     \n",
       "________________________________________________________________\n",
       "Linear               2 x 150 x 3072       2,362,368  False     \n",
       "________________________________________________________________\n",
       "Linear               2 x 150 x 768        2,360,064  False     \n",
       "________________________________________________________________\n",
       "LayerNorm            2 x 150 x 768        1,536      False     \n",
       "________________________________________________________________\n",
       "Dropout              2 x 150 x 768        0          False     \n",
       "________________________________________________________________\n",
       "Linear               2 x 150 x 768        590,592    False     \n",
       "________________________________________________________________\n",
       "Linear               2 x 150 x 768        590,592    False     \n",
       "________________________________________________________________\n",
       "Linear               2 x 150 x 768        590,592    False     \n",
       "________________________________________________________________\n",
       "Dropout              2 x 12 x 150 x 150   0          False     \n",
       "________________________________________________________________\n",
       "Linear               2 x 150 x 768        590,592    False     \n",
       "________________________________________________________________\n",
       "LayerNorm            2 x 150 x 768        1,536      False     \n",
       "________________________________________________________________\n",
       "Dropout              2 x 150 x 768        0          False     \n",
       "________________________________________________________________\n",
       "Linear               2 x 150 x 3072       2,362,368  False     \n",
       "________________________________________________________________\n",
       "Linear               2 x 150 x 768        2,360,064  False     \n",
       "________________________________________________________________\n",
       "LayerNorm            2 x 150 x 768        1,536      False     \n",
       "________________________________________________________________\n",
       "Dropout              2 x 150 x 768        0          False     \n",
       "________________________________________________________________\n",
       "Linear               2 x 150 x 768        590,592    False     \n",
       "________________________________________________________________\n",
       "Linear               2 x 150 x 768        590,592    False     \n",
       "________________________________________________________________\n",
       "Linear               2 x 150 x 768        590,592    False     \n",
       "________________________________________________________________\n",
       "Dropout              2 x 12 x 150 x 150   0          False     \n",
       "________________________________________________________________\n",
       "Linear               2 x 150 x 768        590,592    False     \n",
       "________________________________________________________________\n",
       "LayerNorm            2 x 150 x 768        1,536      False     \n",
       "________________________________________________________________\n",
       "Dropout              2 x 150 x 768        0          False     \n",
       "________________________________________________________________\n",
       "Linear               2 x 150 x 3072       2,362,368  False     \n",
       "________________________________________________________________\n",
       "Linear               2 x 150 x 768        2,360,064  False     \n",
       "________________________________________________________________\n",
       "LayerNorm            2 x 150 x 768        1,536      False     \n",
       "________________________________________________________________\n",
       "Dropout              2 x 150 x 768        0          False     \n",
       "________________________________________________________________\n",
       "Linear               2 x 150 x 768        590,592    False     \n",
       "________________________________________________________________\n",
       "Linear               2 x 150 x 768        590,592    False     \n",
       "________________________________________________________________\n",
       "Linear               2 x 150 x 768        590,592    False     \n",
       "________________________________________________________________\n",
       "Dropout              2 x 12 x 150 x 150   0          False     \n",
       "________________________________________________________________\n",
       "Linear               2 x 150 x 768        590,592    False     \n",
       "________________________________________________________________\n",
       "LayerNorm            2 x 150 x 768        1,536      False     \n",
       "________________________________________________________________\n",
       "Dropout              2 x 150 x 768        0          False     \n",
       "________________________________________________________________\n",
       "Linear               2 x 150 x 3072       2,362,368  False     \n",
       "________________________________________________________________\n",
       "Linear               2 x 150 x 768        2,360,064  False     \n",
       "________________________________________________________________\n",
       "LayerNorm            2 x 150 x 768        1,536      False     \n",
       "________________________________________________________________\n",
       "Dropout              2 x 150 x 768        0          False     \n",
       "________________________________________________________________\n",
       "Linear               2 x 150 x 768        590,592    False     \n",
       "________________________________________________________________\n",
       "Linear               2 x 150 x 768        590,592    False     \n",
       "________________________________________________________________\n",
       "Linear               2 x 150 x 768        590,592    False     \n",
       "________________________________________________________________\n",
       "Dropout              2 x 12 x 150 x 150   0          False     \n",
       "________________________________________________________________\n",
       "Linear               2 x 150 x 768        590,592    False     \n",
       "________________________________________________________________\n",
       "LayerNorm            2 x 150 x 768        1,536      False     \n",
       "________________________________________________________________\n",
       "Dropout              2 x 150 x 768        0          False     \n",
       "________________________________________________________________\n",
       "Linear               2 x 150 x 3072       2,362,368  False     \n",
       "________________________________________________________________\n",
       "Linear               2 x 150 x 768        2,360,064  False     \n",
       "________________________________________________________________\n",
       "LayerNorm            2 x 150 x 768        1,536      False     \n",
       "________________________________________________________________\n",
       "Dropout              2 x 150 x 768        0          False     \n",
       "________________________________________________________________\n",
       "Linear               2 x 150 x 768        590,592    False     \n",
       "________________________________________________________________\n",
       "Linear               2 x 150 x 768        590,592    False     \n",
       "________________________________________________________________\n",
       "Linear               2 x 150 x 768        590,592    False     \n",
       "________________________________________________________________\n",
       "Dropout              2 x 12 x 150 x 150   0          False     \n",
       "________________________________________________________________\n",
       "Linear               2 x 150 x 768        590,592    False     \n",
       "________________________________________________________________\n",
       "LayerNorm            2 x 150 x 768        1,536      False     \n",
       "________________________________________________________________\n",
       "Dropout              2 x 150 x 768        0          False     \n",
       "________________________________________________________________\n",
       "Linear               2 x 150 x 3072       2,362,368  False     \n",
       "________________________________________________________________\n",
       "Linear               2 x 150 x 768        2,360,064  False     \n",
       "________________________________________________________________\n",
       "LayerNorm            2 x 150 x 768        1,536      False     \n",
       "________________________________________________________________\n",
       "Dropout              2 x 150 x 768        0          False     \n",
       "________________________________________________________________\n",
       "Linear               2 x 150 x 768        590,592    False     \n",
       "________________________________________________________________\n",
       "Linear               2 x 150 x 768        590,592    False     \n",
       "________________________________________________________________\n",
       "Linear               2 x 150 x 768        590,592    False     \n",
       "________________________________________________________________\n",
       "Dropout              2 x 12 x 150 x 150   0          False     \n",
       "________________________________________________________________\n",
       "Linear               2 x 150 x 768        590,592    False     \n",
       "________________________________________________________________\n",
       "LayerNorm            2 x 150 x 768        1,536      False     \n",
       "________________________________________________________________\n",
       "Dropout              2 x 150 x 768        0          False     \n",
       "________________________________________________________________\n",
       "Linear               2 x 150 x 3072       2,362,368  False     \n",
       "________________________________________________________________\n",
       "Linear               2 x 150 x 768        2,360,064  False     \n",
       "________________________________________________________________\n",
       "LayerNorm            2 x 150 x 768        1,536      False     \n",
       "________________________________________________________________\n",
       "Dropout              2 x 150 x 768        0          False     \n",
       "________________________________________________________________\n",
       "Linear               2 x 150 x 768        590,592    False     \n",
       "________________________________________________________________\n",
       "Linear               2 x 150 x 768        590,592    False     \n",
       "________________________________________________________________\n",
       "Linear               2 x 150 x 768        590,592    False     \n",
       "________________________________________________________________\n",
       "Dropout              2 x 12 x 150 x 150   0          False     \n",
       "________________________________________________________________\n",
       "Linear               2 x 150 x 768        590,592    False     \n",
       "________________________________________________________________\n",
       "LayerNorm            2 x 150 x 768        1,536      False     \n",
       "________________________________________________________________\n",
       "Dropout              2 x 150 x 768        0          False     \n",
       "________________________________________________________________\n",
       "Linear               2 x 150 x 3072       2,362,368  False     \n",
       "________________________________________________________________\n",
       "Linear               2 x 150 x 768        2,360,064  False     \n",
       "________________________________________________________________\n",
       "LayerNorm            2 x 150 x 768        1,536      False     \n",
       "________________________________________________________________\n",
       "Dropout              2 x 150 x 768        0          False     \n",
       "________________________________________________________________\n",
       "Linear               2 x 150 x 768        590,592    False     \n",
       "________________________________________________________________\n",
       "Linear               2 x 150 x 768        590,592    False     \n",
       "________________________________________________________________\n",
       "Linear               2 x 150 x 768        590,592    False     \n",
       "________________________________________________________________\n",
       "Dropout              2 x 12 x 150 x 150   0          False     \n",
       "________________________________________________________________\n",
       "Linear               2 x 150 x 768        590,592    False     \n",
       "________________________________________________________________\n",
       "LayerNorm            2 x 150 x 768        1,536      False     \n",
       "________________________________________________________________\n",
       "Dropout              2 x 150 x 768        0          False     \n",
       "________________________________________________________________\n",
       "Linear               2 x 150 x 3072       2,362,368  False     \n",
       "________________________________________________________________\n",
       "Linear               2 x 150 x 768        2,360,064  False     \n",
       "________________________________________________________________\n",
       "LayerNorm            2 x 150 x 768        1,536      False     \n",
       "________________________________________________________________\n",
       "Dropout              2 x 150 x 768        0          False     \n",
       "________________________________________________________________\n",
       "Linear               2 x 150 x 768        590,592    False     \n",
       "________________________________________________________________\n",
       "Linear               2 x 150 x 768        590,592    False     \n",
       "________________________________________________________________\n",
       "Linear               2 x 150 x 768        590,592    False     \n",
       "________________________________________________________________\n",
       "Dropout              2 x 12 x 150 x 150   0          False     \n",
       "________________________________________________________________\n",
       "Linear               2 x 150 x 768        590,592    False     \n",
       "________________________________________________________________\n",
       "LayerNorm            2 x 150 x 768        1,536      False     \n",
       "________________________________________________________________\n",
       "Dropout              2 x 150 x 768        0          False     \n",
       "________________________________________________________________\n",
       "Linear               2 x 150 x 3072       2,362,368  False     \n",
       "________________________________________________________________\n",
       "Linear               2 x 150 x 768        2,360,064  False     \n",
       "________________________________________________________________\n",
       "LayerNorm            2 x 150 x 768        1,536      False     \n",
       "________________________________________________________________\n",
       "Dropout              2 x 150 x 768        0          False     \n",
       "________________________________________________________________\n",
       "Linear               2 x 150 x 768        590,592    False     \n",
       "________________________________________________________________\n",
       "Linear               2 x 150 x 768        590,592    False     \n",
       "________________________________________________________________\n",
       "Linear               2 x 150 x 768        590,592    False     \n",
       "________________________________________________________________\n",
       "Dropout              2 x 12 x 150 x 150   0          False     \n",
       "________________________________________________________________\n",
       "Linear               2 x 150 x 768        590,592    False     \n",
       "________________________________________________________________\n",
       "LayerNorm            2 x 150 x 768        1,536      False     \n",
       "________________________________________________________________\n",
       "Dropout              2 x 150 x 768        0          False     \n",
       "________________________________________________________________\n",
       "Linear               2 x 150 x 3072       2,362,368  False     \n",
       "________________________________________________________________\n",
       "Linear               2 x 150 x 768        2,360,064  False     \n",
       "________________________________________________________________\n",
       "LayerNorm            2 x 150 x 768        1,536      False     \n",
       "________________________________________________________________\n",
       "Dropout              2 x 150 x 768        0          False     \n",
       "________________________________________________________________\n",
       "Linear               2 x 150 x 768        590,592    False     \n",
       "________________________________________________________________\n",
       "Linear               2 x 150 x 768        590,592    False     \n",
       "________________________________________________________________\n",
       "Linear               2 x 150 x 768        590,592    False     \n",
       "________________________________________________________________\n",
       "Dropout              2 x 12 x 150 x 150   0          False     \n",
       "________________________________________________________________\n",
       "Linear               2 x 150 x 768        590,592    False     \n",
       "________________________________________________________________\n",
       "LayerNorm            2 x 150 x 768        1,536      False     \n",
       "________________________________________________________________\n",
       "Dropout              2 x 150 x 768        0          False     \n",
       "________________________________________________________________\n",
       "Linear               2 x 150 x 3072       2,362,368  False     \n",
       "________________________________________________________________\n",
       "Linear               2 x 150 x 768        2,360,064  False     \n",
       "________________________________________________________________\n",
       "LayerNorm            2 x 150 x 768        1,536      False     \n",
       "________________________________________________________________\n",
       "Dropout              2 x 150 x 768        0          False     \n",
       "________________________________________________________________\n",
       "Linear               2 x 768              590,592    False     \n",
       "________________________________________________________________\n",
       "Tanh                 2 x 768              0          False     \n",
       "________________________________________________________________\n",
       "Linear               2 x 768              590,592    True      \n",
       "________________________________________________________________\n",
       "Dropout              2 x 768              0          False     \n",
       "________________________________________________________________\n",
       "Linear               2 x 2                1,538      True      \n",
       "________________________________________________________________\n",
       "\n",
       "Total params: 125,237,762\n",
       "Total trainable params: 592,130\n",
       "Total non-trainable params: 124,645,632\n",
       "\n",
       "Optimizer used: <function ranger at 0x7fb9c19522f0>\n",
       "Loss function: FlattenedLoss of CrossEntropyLoss()\n",
       "\n",
       "Model frozen up to parameter group number 14\n",
       "\n",
       "Callbacks:\n",
       "  - TrainEvalCallback\n",
       "  - Recorder\n",
       "  - ProgressCallback\n",
       "  - BertSeqClassificationCallback"
      ]
     },
     "execution_count": null,
     "metadata": {},
     "output_type": "execute_result"
    }
   ],
   "source": [
    "learn.freeze_to(-1)\n",
    "learn.summary()"
   ]
  },
  {
   "cell_type": "code",
   "execution_count": null,
   "metadata": {},
   "outputs": [],
   "source": [
    "# learn.lr_find()"
   ]
  },
  {
   "cell_type": "code",
   "execution_count": null,
   "metadata": {},
   "outputs": [
    {
     "data": {
      "text/html": [
       "<table border=\"1\" class=\"dataframe\">\n",
       "  <thead>\n",
       "    <tr style=\"text-align: left;\">\n",
       "      <th>epoch</th>\n",
       "      <th>train_loss</th>\n",
       "      <th>valid_loss</th>\n",
       "      <th>accuracy</th>\n",
       "      <th>time</th>\n",
       "    </tr>\n",
       "  </thead>\n",
       "  <tbody>\n",
       "    <tr>\n",
       "      <td>0</td>\n",
       "      <td>0.668175</td>\n",
       "      <td>0.650802</td>\n",
       "      <td>0.605000</td>\n",
       "      <td>00:17</td>\n",
       "    </tr>\n",
       "  </tbody>\n",
       "</table>"
      ],
      "text/plain": [
       "<IPython.core.display.HTML object>"
      ]
     },
     "metadata": {},
     "output_type": "display_data"
    }
   ],
   "source": [
    "learn.fit_one_cycle(1, 1e-2, moms=(0.8,0.7,0.8))"
   ]
  },
  {
   "cell_type": "code",
   "execution_count": null,
   "metadata": {},
   "outputs": [],
   "source": [
    "# learn.fit_one_cycle(5, 1e-2, moms=(0.8,0.7,0.8))"
   ]
  },
  {
   "cell_type": "code",
   "execution_count": null,
   "metadata": {},
   "outputs": [],
   "source": [
    "# learn.freeze_to(-3)\n",
    "# learn.fit_one_cycle(5, 1e-3, moms=(0.8,0.7,0.8))"
   ]
  },
  {
   "cell_type": "code",
   "execution_count": null,
   "metadata": {},
   "outputs": [
    {
     "data": {
      "text/html": [],
      "text/plain": [
       "<IPython.core.display.HTML object>"
      ]
     },
     "metadata": {},
     "output_type": "display_data"
    },
    {
     "data": {
      "text/html": [
       "<table border=\"1\" class=\"dataframe\">\n",
       "  <thead>\n",
       "    <tr style=\"text-align: right;\">\n",
       "      <th></th>\n",
       "      <th>text</th>\n",
       "      <th>category</th>\n",
       "      <th>category_</th>\n",
       "    </tr>\n",
       "  </thead>\n",
       "  <tbody>\n",
       "    <tr>\n",
       "      <th>0</th>\n",
       "      <td>&lt;s&gt;There is no relation at all between Fortier and Profiler but the fact that both are police series about violent crimes. Profiler looks crispy, Fortier looks classic. Profiler plots are quite simple. Fortier's plot are far more complicated... Fortier looks more like Prime Suspect, if we have to spot similarities... The main character is weak and weirdo, but have \"clairvoyance\". People like to compare, to judge, to evaluate. How about just enjoying? Funny thing too, people writing Fortier looks American but, on the other hand, arguing they prefer American series (!!!). Maybe it's the language, or the spirit, but I think this series is more English than American. By the way, the</td>\n",
       "      <td>positive</td>\n",
       "      <td>negative</td>\n",
       "    </tr>\n",
       "    <tr>\n",
       "      <th>1</th>\n",
       "      <td>&lt;s&gt;Punctuating the opening credits sequence is a swarthy man having a strange, all-too-real nightmare. Closing in on its dystopic 2054 Paris, the film begins to follow a woman into a grungy club, where she and a Slavic bartender convene outside on the deck. They toss exclamations at each other to the effect that she owes him more money although she believes she's paid it all. Another woman obstructs the budding violence, only to have a bitter fight with the woman herself. The initial woman storms out, and she is kidnapped. Christian Volckman's Renaissance appears to be another one in an assembly line of recent motion-capture-animated sci-fi noir pictures, but</td>\n",
       "      <td>positive</td>\n",
       "      <td>positive</td>\n",
       "    </tr>\n",
       "  </tbody>\n",
       "</table>"
      ],
      "text/plain": [
       "<IPython.core.display.HTML object>"
      ]
     },
     "metadata": {},
     "output_type": "display_data"
    }
   ],
   "source": [
    "learn.show_results()"
   ]
  },
  {
   "cell_type": "markdown",
   "metadata": {},
   "source": [
    "## Export"
   ]
  },
  {
   "cell_type": "code",
   "execution_count": null,
   "metadata": {},
   "outputs": [],
   "source": [
    "# # fastai model\n",
    "# learn.save(f'{model_name}_final')"
   ]
  },
  {
   "cell_type": "code",
   "execution_count": null,
   "metadata": {},
   "outputs": [],
   "source": [
    "# # transformeres model\n",
    "# Path('./models/transformers_model').mkdir(exist_ok=True)\n",
    "# learn.model.save_pretrained('./models/transformers_model')"
   ]
  },
  {
   "cell_type": "code",
   "execution_count": null,
   "metadata": {},
   "outputs": [],
   "source": [
    "# Path('./models/tokenizer').mkdir(exist_ok=True)\n",
    "# tokenizer.save_pretrained('./models/tokenizer')"
   ]
  },
  {
   "cell_type": "code",
   "execution_count": null,
   "metadata": {},
   "outputs": [],
   "source": [
    "# transform_info = {'category_map': list(learn.dbunch.vocab), 'max_len': max_len}\n",
    "# transform_info = json.dumps(transform_info)\n",
    "# Path('./models/transform_info.json').write_text(transform_info)"
   ]
  },
  {
   "cell_type": "markdown",
   "metadata": {},
   "source": [
    "## Inference"
   ]
  },
  {
   "cell_type": "code",
   "execution_count": null,
   "metadata": {},
   "outputs": [],
   "source": [
    "# inference_model = RobertaForSequenceClassification.from_pretrained('./models/transformers_model')\n",
    "# inference_model.cuda()\n",
    "# inference_model.eval()"
   ]
  },
  {
   "cell_type": "code",
   "execution_count": null,
   "metadata": {},
   "outputs": [],
   "source": [
    "# dbch = get_databunch(dsrc, 64)\n",
    "# for x, y in dls.train:\n",
    "#     pred, attention = inference_model(x)\n",
    "#     pred = pred.argmax(-1)\n",
    "#     print((pred == y).float().mean())\n",
    "#     break"
   ]
  },
  {
   "cell_type": "markdown",
   "metadata": {},
   "source": [
    "## Client inference"
   ]
  },
  {
   "cell_type": "code",
   "execution_count": null,
   "metadata": {},
   "outputs": [],
   "source": [
    "# inference_model = RobertaForSequenceClassification.from_pretrained('./models/transformers_model')\n",
    "# model.config.output_attentions = True\n",
    "# inference_model.eval()"
   ]
  },
  {
   "cell_type": "code",
   "execution_count": null,
   "metadata": {},
   "outputs": [],
   "source": [
    "# tokenizer = RobertaTokenizer.from_pretrained('./models/tokenizer')\n",
    "# transform_info = json.loads(Path('./models/transform_info.json').read_text())\n",
    "# category_map, max_len = transform_info['category_map'], transform_info['max_len']"
   ]
  },
  {
   "cell_type": "code",
   "execution_count": null,
   "metadata": {},
   "outputs": [],
   "source": [
    "# test_sentences = ['What a suck movie!!!', 'Feels like good. Nice movie.']"
   ]
  },
  {
   "cell_type": "code",
   "execution_count": null,
   "metadata": {},
   "outputs": [],
   "source": [
    "# with torch.no_grad():\n",
    "#     for sentence in test_sentences:\n",
    "#         numeric_sentence = tokenizer.encode(sentence)\n",
    "#         x = torch.tensor([numeric_sentence])\n",
    "#         pred, attention = inference_model(x)\n",
    "#         pred = pred.argmax(-1)\n",
    "#         print(category_map[pred])\n",
    "        \n",
    "# #         attention = attention[-1][0][-1][0]\n",
    "# #         tok_sentence = tokenizer.convert_ids_to_tokens(numeric_sentence)\n",
    "# #         print(tok_sentence, attention)"
   ]
  }
 ],
 "metadata": {
  "kernelspec": {
   "display_name": "Python 3",
   "language": "python",
   "name": "python3"
  }
 },
 "nbformat": 4,
 "nbformat_minor": 2
}
