{
 "cells": [
  {
   "cell_type": "code",
   "execution_count": null,
   "metadata": {},
   "outputs": [],
   "source": [
    "%%capture\n",
    "from fastai_transformers_utils.all import TransformersTokenizer, TransformersNumericalize, Pad2Max, BertSeqClassificationCallback, roberta_SeqClassification_split\n",
    "\n",
    "import json\n",
    "from typing import *\n",
    "from fastai2.basics import *\n",
    "from fastai2.text.all import *\n",
    "from fastai2.callback.all import *\n",
    "\n",
    "from transformers import AutoConfig, AutoTokenizer, AutoModelForSequenceClassification, RobertaForSequenceClassification, RobertaTokenizer"
   ]
  },
  {
   "cell_type": "code",
   "execution_count": null,
   "metadata": {},
   "outputs": [],
   "source": [
    "# all_slow"
   ]
  },
  {
   "cell_type": "markdown",
   "metadata": {},
   "source": [
    "# Example: Roberta Classification on IMDB_SAMPLE\n",
    "> This is also an integration test."
   ]
  },
  {
   "cell_type": "code",
   "execution_count": null,
   "metadata": {},
   "outputs": [],
   "source": [
    "num_class = 2\n",
    "# model_name = 'bert-base-uncased'\n",
    "# model_name = 'distilbert-base-uncased'\n",
    "# model_name = 'albert-base-v2'\n",
    "model_name = 'roberta-base'\n",
    "max_len = 150"
   ]
  },
  {
   "cell_type": "code",
   "execution_count": null,
   "metadata": {},
   "outputs": [
    {
     "data": {
      "application/vnd.jupyter.widget-view+json": {
       "model_id": "c537fbf5415a4666b6fdd25a99f3b881",
       "version_major": 2,
       "version_minor": 0
      },
      "text/plain": [
       "HBox(children=(IntProgress(value=0, description='Downloading', max=898823, style=ProgressStyle(description_wid…"
      ]
     },
     "metadata": {},
     "output_type": "display_data"
    },
    {
     "name": "stdout",
     "output_type": "stream",
     "text": [
      "\n"
     ]
    },
    {
     "data": {
      "application/vnd.jupyter.widget-view+json": {
       "model_id": "c35c5c2734c14b2c8a6b937bc34526b5",
       "version_major": 2,
       "version_minor": 0
      },
      "text/plain": [
       "HBox(children=(IntProgress(value=0, description='Downloading', max=456318, style=ProgressStyle(description_wid…"
      ]
     },
     "metadata": {},
     "output_type": "display_data"
    },
    {
     "name": "stdout",
     "output_type": "stream",
     "text": [
      "\n"
     ]
    }
   ],
   "source": [
    "tokenizer = AutoTokenizer.from_pretrained(model_name)"
   ]
  },
  {
   "cell_type": "markdown",
   "metadata": {},
   "source": [
    "## Data and Tokenization"
   ]
  },
  {
   "cell_type": "code",
   "execution_count": null,
   "metadata": {},
   "outputs": [
    {
     "data": {
      "text/html": [],
      "text/plain": [
       "<IPython.core.display.HTML object>"
      ]
     },
     "metadata": {},
     "output_type": "display_data"
    },
    {
     "data": {
      "text/html": [
       "<div>\n",
       "<style scoped>\n",
       "    .dataframe tbody tr th:only-of-type {\n",
       "        vertical-align: middle;\n",
       "    }\n",
       "\n",
       "    .dataframe tbody tr th {\n",
       "        vertical-align: top;\n",
       "    }\n",
       "\n",
       "    .dataframe thead th {\n",
       "        text-align: right;\n",
       "    }\n",
       "</style>\n",
       "<table border=\"1\" class=\"dataframe\">\n",
       "  <thead>\n",
       "    <tr style=\"text-align: right;\">\n",
       "      <th></th>\n",
       "      <th>label</th>\n",
       "      <th>text</th>\n",
       "      <th>is_valid</th>\n",
       "    </tr>\n",
       "  </thead>\n",
       "  <tbody>\n",
       "    <tr>\n",
       "      <th>0</th>\n",
       "      <td>negative</td>\n",
       "      <td>Un-bleeping-believable! Meg Ryan doesn't even look her usual pert lovable self in this, which normally makes me forgive her shallow ticky acting schtick. Hard to believe she was the producer on this dog. Plus Kevin Kline: what kind of suicide trip has his career been on? Whoosh... Banzai!!! Finally this was directed by the guy who did Big Chill? Must be a replay of Jonestown - hollywood style. Wooofff!</td>\n",
       "      <td>False</td>\n",
       "    </tr>\n",
       "    <tr>\n",
       "      <th>1</th>\n",
       "      <td>positive</td>\n",
       "      <td>This is a extremely well-made film. The acting, script and camera-work are all first-rate. The music is good, too, though it is mostly early in the film, when things are still relatively cheery. There are no really superstars in the cast, though several faces will be familiar. The entire cast does an excellent job with the script.&lt;br /&gt;&lt;br /&gt;But it is hard to watch, because there is no good end to a situation like the one presented. It is now fashionable to blame the British for setting Hindus and Muslims against each other, and then cruelly separating them into two countries. There is som...</td>\n",
       "      <td>False</td>\n",
       "    </tr>\n",
       "    <tr>\n",
       "      <th>2</th>\n",
       "      <td>negative</td>\n",
       "      <td>Every once in a long while a movie will come along that will be so awful that I feel compelled to warn people. If I labor all my days and I can save but one soul from watching this movie, how great will be my joy.&lt;br /&gt;&lt;br /&gt;Where to begin my discussion of pain. For starters, there was a musical montage every five minutes. There was no character development. Every character was a stereotype. We had swearing guy, fat guy who eats donuts, goofy foreign guy, etc. The script felt as if it were being written as the movie was being shot. The production value was so incredibly low that it felt li...</td>\n",
       "      <td>False</td>\n",
       "    </tr>\n",
       "    <tr>\n",
       "      <th>3</th>\n",
       "      <td>positive</td>\n",
       "      <td>Name just says it all. I watched this movie with my dad when it came out and having served in Korea he had great admiration for the man. The disappointing thing about this film is that it only concentrate on a short period of the man's life - interestingly enough the man's entire life would have made such an epic bio-pic that it is staggering to imagine the cost for production.&lt;br /&gt;&lt;br /&gt;Some posters elude to the flawed characteristics about the man, which are cheap shots. The theme of the movie \"Duty, Honor, Country\" are not just mere words blathered from the lips of a high-brassed offic...</td>\n",
       "      <td>False</td>\n",
       "    </tr>\n",
       "    <tr>\n",
       "      <th>4</th>\n",
       "      <td>negative</td>\n",
       "      <td>This movie succeeds at being one of the most unique movies you've seen. However this comes from the fact that you can't make heads or tails of this mess. It almost seems as a series of challenges set up to determine whether or not you are willing to walk out of the movie and give up the money you just paid. If you don't want to feel slighted you'll sit through this horrible film and develop a real sense of pity for the actors involved, they've all seen better days, but then you realize they actually got paid quite a bit of money to do this and you'll lose pity for them just like you've alr...</td>\n",
       "      <td>False</td>\n",
       "    </tr>\n",
       "  </tbody>\n",
       "</table>\n",
       "</div>"
      ],
      "text/plain": [
       "      label  ... is_valid\n",
       "0  negative  ...    False\n",
       "1  positive  ...    False\n",
       "2  negative  ...    False\n",
       "3  positive  ...    False\n",
       "4  negative  ...    False\n",
       "\n",
       "[5 rows x 3 columns]"
      ]
     },
     "execution_count": null,
     "metadata": {},
     "output_type": "execute_result"
    }
   ],
   "source": [
    "path = untar_data(URLs.IMDB_SAMPLE)\n",
    "df = pd.read_csv(path/'texts.csv')\n",
    "df.head()"
   ]
  },
  {
   "cell_type": "code",
   "execution_count": null,
   "metadata": {},
   "outputs": [
    {
     "data": {
      "text/html": [],
      "text/plain": [
       "<IPython.core.display.HTML object>"
      ]
     },
     "metadata": {},
     "output_type": "display_data"
    },
    {
     "data": {
      "text/html": [
       "<div>\n",
       "<style scoped>\n",
       "    .dataframe tbody tr th:only-of-type {\n",
       "        vertical-align: middle;\n",
       "    }\n",
       "\n",
       "    .dataframe tbody tr th {\n",
       "        vertical-align: top;\n",
       "    }\n",
       "\n",
       "    .dataframe thead th {\n",
       "        text-align: right;\n",
       "    }\n",
       "</style>\n",
       "<table border=\"1\" class=\"dataframe\">\n",
       "  <thead>\n",
       "    <tr style=\"text-align: right;\">\n",
       "      <th></th>\n",
       "      <th>label</th>\n",
       "      <th>text</th>\n",
       "      <th>is_valid</th>\n",
       "    </tr>\n",
       "  </thead>\n",
       "  <tbody>\n",
       "    <tr>\n",
       "      <th>0</th>\n",
       "      <td>negative</td>\n",
       "      <td>Un - ble eping - bel iev able ! ĠMeg ĠRyan Ġdoesn 't Ġeven Ġlook Ġher Ġusual Ġpert Ġl ovable Ġself Ġin Ġthis , Ġwhich Ġnormally Ġmakes Ġme Ġforgive Ġher Ġshallow Ġtick y Ġacting Ġsch tick . ĠHard Ġto Ġbelieve Ġshe Ġwas Ġthe Ġproducer Ġon Ġthis Ġdog . ĠPlus ĠKevin ĠK line : Ġwhat Ġkind Ġof Ġsuicide Ġtrip Ġhas Ġhis Ġcareer Ġbeen Ġon ? ĠWho osh ... ĠBan zai !!! ĠFinally Ġthis Ġwas Ġdirected Ġby Ġthe Ġguy Ġwho Ġdid ĠBig ĠChill ? ĠMust Ġbe Ġa Ġreplay Ġof ĠJon est own Ġ- Ġh ollywood Ġstyle . ĠWoo off f !</td>\n",
       "      <td>False</td>\n",
       "    </tr>\n",
       "    <tr>\n",
       "      <th>1</th>\n",
       "      <td>positive</td>\n",
       "      <td>This Ġis Ġa Ġextremely Ġwell - made Ġfilm . ĠThe Ġacting , Ġscript Ġand Ġcamera - work Ġare Ġall Ġfirst - rate . ĠThe Ġmusic Ġis Ġgood , Ġtoo , Ġthough Ġit Ġis Ġmostly Ġearly Ġin Ġthe Ġfilm , Ġwhen Ġthings Ġare Ġstill Ġrelatively Ġche ery . ĠThere Ġare Ġno Ġreally Ġsuperst ars Ġin Ġthe Ġcast , Ġthough Ġseveral Ġfaces Ġwill Ġbe Ġfamiliar . ĠThe Ġentire Ġcast Ġdoes Ġan Ġexcellent Ġjob Ġwith Ġthe Ġscript .&lt; br Ġ/ &gt;&lt; br Ġ/&gt; But Ġit Ġis Ġhard Ġto Ġwatch , Ġbecause Ġthere Ġis Ġno Ġgood Ġend Ġto Ġa Ġsituation Ġlike Ġthe Ġone Ġpresented . ĠIt Ġis Ġnow Ġfashionable Ġto Ġblame Ġthe ĠBritish Ġfor Ġse...</td>\n",
       "      <td>False</td>\n",
       "    </tr>\n",
       "    <tr>\n",
       "      <th>2</th>\n",
       "      <td>negative</td>\n",
       "      <td>Every Ġonce Ġin Ġa Ġlong Ġwhile Ġa Ġmovie Ġwill Ġcome Ġalong Ġthat Ġwill Ġbe Ġso Ġawful Ġthat ĠI Ġfeel Ġcompelled Ġto Ġwarn Ġpeople . ĠIf ĠI Ġlabor Ġall Ġmy Ġdays Ġand ĠI Ġcan Ġsave Ġbut Ġone Ġsoul Ġfrom Ġwatching Ġthis Ġmovie , Ġhow Ġgreat Ġwill Ġbe Ġmy Ġjoy .&lt; br Ġ/ &gt;&lt; br Ġ/&gt; Where Ġto Ġbegin Ġmy Ġdiscussion Ġof Ġpain . ĠFor Ġstarters , Ġthere Ġwas Ġa Ġmusical Ġmont age Ġevery Ġfive Ġminutes . ĠThere Ġwas Ġno Ġcharacter Ġdevelopment . ĠEvery Ġcharacter Ġwas Ġa Ġstereotype . ĠWe Ġhad Ġswearing Ġguy , Ġfat Ġguy Ġwho Ġeats Ġdon uts , Ġgoofy Ġforeign Ġguy , Ġetc . ĠThe Ġscript Ġfelt Ġas Ġif ...</td>\n",
       "      <td>False</td>\n",
       "    </tr>\n",
       "    <tr>\n",
       "      <th>3</th>\n",
       "      <td>positive</td>\n",
       "      <td>Name Ġjust Ġsays Ġit Ġall . ĠI Ġwatched Ġthis Ġmovie Ġwith Ġmy Ġdad Ġwhen Ġit Ġcame Ġout Ġand Ġhaving Ġserved Ġin ĠKorea Ġhe Ġhad Ġgreat Ġadmiration Ġfor Ġthe Ġman . ĠThe Ġdisappointing Ġthing Ġabout Ġthis Ġfilm Ġis Ġthat Ġit Ġonly Ġconcentrate Ġon Ġa Ġshort Ġperiod Ġof Ġthe Ġman 's Ġlife Ġ- Ġinterestingly Ġenough Ġthe Ġman 's Ġentire Ġlife Ġwould Ġhave Ġmade Ġsuch Ġan Ġepic Ġbio - pic Ġthat Ġit Ġis Ġstaggering Ġto Ġimagine Ġthe Ġcost Ġfor Ġproduction .&lt; br Ġ/ &gt;&lt; br Ġ/&gt; Some Ġposters Ġel ude Ġto Ġthe Ġflawed Ġcharacteristics Ġabout Ġthe Ġman , Ġwhich Ġare Ġcheap Ġshots . ĠThe Ġtheme Ġof Ġt...</td>\n",
       "      <td>False</td>\n",
       "    </tr>\n",
       "    <tr>\n",
       "      <th>4</th>\n",
       "      <td>negative</td>\n",
       "      <td>This Ġmovie Ġsucceeds Ġat Ġbeing Ġone Ġof Ġthe Ġmost Ġunique Ġmovies Ġyou 've Ġseen . ĠHowever Ġthis Ġcomes Ġfrom Ġthe Ġfact Ġthat Ġyou Ġcan 't Ġmake Ġheads Ġor Ġtails Ġof Ġthis Ġmess . ĠIt Ġalmost Ġseems Ġas Ġa Ġseries Ġof Ġchallenges Ġset Ġup Ġto Ġdetermine Ġwhether Ġor Ġnot Ġyou Ġare Ġwilling Ġto Ġwalk Ġout Ġof Ġthe Ġmovie Ġand Ġgive Ġup Ġthe Ġmoney Ġyou Ġjust Ġpaid . ĠIf Ġyou Ġdon 't Ġwant Ġto Ġfeel Ġslight ed Ġyou 'll Ġsit Ġthrough Ġthis Ġhorrible Ġfilm Ġand Ġdevelop Ġa Ġreal Ġsense Ġof Ġpity Ġfor Ġthe Ġactors Ġinvolved , Ġthey 've Ġall Ġseen Ġbetter Ġdays , Ġbut Ġthen Ġyou Ġrealize Ġ...</td>\n",
       "      <td>False</td>\n",
       "    </tr>\n",
       "  </tbody>\n",
       "</table>\n",
       "</div>"
      ],
      "text/plain": [
       "      label  ... is_valid\n",
       "0  negative  ...    False\n",
       "1  positive  ...    False\n",
       "2  negative  ...    False\n",
       "3  positive  ...    False\n",
       "4  negative  ...    False\n",
       "\n",
       "[5 rows x 3 columns]"
      ]
     },
     "execution_count": null,
     "metadata": {},
     "output_type": "execute_result"
    }
   ],
   "source": [
    "tok_list = L(parallel_gen(TransformersTokenizer, df.text, tokenizer=tokenizer)\n",
    "            ).sorted().itemgot(1)\n",
    "tok_df = df.copy()\n",
    "tok_df.text =  tok_list.map(lambda x: ' '.join(x)) # split tokens by ' '\n",
    "tok_df.head()"
   ]
  },
  {
   "cell_type": "code",
   "execution_count": null,
   "metadata": {},
   "outputs": [],
   "source": [
    "# tok_df.to_csv(f'{model_name}_tok.csv', index=False)\n",
    "# tok_df = pd.read_csv(f'{model_name}_tok.csv')"
   ]
  },
  {
   "cell_type": "markdown",
   "metadata": {},
   "source": [
    "## Databunch "
   ]
  },
  {
   "cell_type": "code",
   "execution_count": null,
   "metadata": {},
   "outputs": [
    {
     "data": {
      "text/plain": [
       "((tensor([    0,  9685,    12,  5225, 24320,    12,  8494, 18421,   868,   328,\n",
       "          14938,  1774,   630,    75,   190,   356,    69,  4505, 32819,   784,\n",
       "          30289,  1403,    11,    42,     6,    61,  6329,   817,   162, 20184,\n",
       "             69, 16762, 10457,   219,  3501,  8447, 41791,     4,  6206,     7,\n",
       "            679,    79,    21,     5,  3436,    15,    42,  2335,     4,  4642,\n",
       "           2363,   229,  1902,    35,    99,   761,     9,  4260,  1805,    34,\n",
       "             39,   756,    57,    15,   116,  3394,  5212,   734,  5981, 23642,\n",
       "          16506,  3347,    42,    21,  3660,    30,     5,  2173,    54,   222,\n",
       "           1776, 25928,   116,  8495,    28,    10, 16462,     9,  4160,   990,\n",
       "           3355,   111,  1368,  9718,  2496,     4, 29935,  1529,   506,   328,\n",
       "              2,     1,     1,     1,     1,     1,     1,     1,     1,     1,\n",
       "              1,     1,     1,     1,     1,     1,     1,     1,     1,     1,\n",
       "              1,     1,     1,     1,     1,     1,     1,     1,     1,     1,\n",
       "              1,     1,     1,     1,     1,     1,     1,     1,     1,     1,\n",
       "              1,     1,     1,     1,     1,     1,     1,     1,     1,     1]),\n",
       "  tensor(0)),\n",
       " (\"<s>Un-bleeping-believable! Meg Ryan doesn't even look her usual pert lovable self in this, which normally makes me forgive her shallow ticky acting schtick. Hard to believe she was the producer on this dog. Plus Kevin Kline: what kind of suicide trip has his career been on? Whoosh... Banzai!!! Finally this was directed by the guy who did Big Chill? Must be a replay of Jonestown - hollywood style. Wooofff!</s>\",\n",
       "  'negative'))"
      ]
     },
     "execution_count": null,
     "metadata": {},
     "output_type": "execute_result"
    }
   ],
   "source": [
    "splits = ColSplitter()(tok_df)\n",
    "ds_tfms = [\n",
    "    [attrgetter('text'), lambda x: x.split(' '), TransformersNumericalize(tokenizer), Pad2Max(max_len, tokenizer.pad_token_id)], \n",
    "    [attrgetter(\"label\"), Categorize()]\n",
    "]\n",
    "dsrc = DataSource(tok_df, tfms=ds_tfms, splits=splits)\n",
    "dsrc.train[0], dsrc.decode(dsrc.train[0])"
   ]
  },
  {
   "cell_type": "code",
   "execution_count": null,
   "metadata": {},
   "outputs": [],
   "source": [
    "def get_databunch(dsrc, bs: int):\n",
    "    return dsrc.databunch(bs=bs, after_batch=[Cuda()])\n",
    "\n",
    "dbunch = get_databunch(dsrc, bs=2)\n",
    "# for x in dbunch.train_dl:\n",
    "#     print(x[0].shape, x[0].dtype)\n",
    "#     print(x[1].shape, x[1].dtype)\n",
    "#     break"
   ]
  },
  {
   "cell_type": "code",
   "execution_count": null,
   "metadata": {},
   "outputs": [
    {
     "data": {
      "text/html": [
       "<table border=\"1\" class=\"dataframe\">\n",
       "  <thead>\n",
       "    <tr style=\"text-align: right;\">\n",
       "      <th></th>\n",
       "      <th>text</th>\n",
       "      <th>category</th>\n",
       "    </tr>\n",
       "  </thead>\n",
       "  <tbody>\n",
       "    <tr>\n",
       "      <th>0</th>\n",
       "      <td>&lt;s&gt;I'm glad that I saw this film after Mr.Sandler became famous.&lt;br /&gt;&lt;br /&gt;It is bad....bad,bad,bad. There is no plot. It's like watching a painfully dull home movie.&lt;br /&gt;&lt;br /&gt;I really enjoy his other films......but if you're a fan like me....stay away from this one. It may change your thoughts on Adam. You may never recover from the horror that is this film....I've had a better time watching old folks play scrabble in a home.......&lt;/s&gt;</td>\n",
       "      <td>negative</td>\n",
       "    </tr>\n",
       "    <tr>\n",
       "      <th>1</th>\n",
       "      <td>&lt;s&gt;As a former 2 time Okinawan Karate world champion, I like movies about sacrifice for sport. But this movie is about so much more. This movie is so good and so deep. I have recently been plagued by very serious injury and pretty much a disastrous lack of passion. Almost lights out for me. And this silly little movie touched me so deep that like out of a daze it reminded me about what life is supposed to be about. This is a movie about living. Living your life for yourself and respect for others. Empowerment. God, bless \"Bend it like Beckham\" I believe it is a true gem.&lt;/s&gt;</td>\n",
       "      <td>positive</td>\n",
       "    </tr>\n",
       "  </tbody>\n",
       "</table>"
      ],
      "text/plain": [
       "<IPython.core.display.HTML object>"
      ]
     },
     "metadata": {},
     "output_type": "display_data"
    }
   ],
   "source": [
    "dbunch.show_batch(max_n=2)"
   ]
  },
  {
   "cell_type": "markdown",
   "metadata": {},
   "source": [
    "## Learner and Train"
   ]
  },
  {
   "cell_type": "code",
   "execution_count": null,
   "metadata": {},
   "outputs": [],
   "source": [
    "dbunch = get_databunch(dsrc, bs=64)\n",
    "model = AutoModelForSequenceClassification.from_pretrained(model_name)\n",
    "model.config.num_labels=num_class\n",
    "learn = Learner(dbunch, \n",
    "                model, \n",
    "                loss_func=CrossEntropyLossFlat(), \n",
    "                opt_func=ranger,\n",
    "                splitter=roberta_SeqClassification_split, \n",
    "                cbs=[BertSeqClassificationCallback(tokenizer.pad_token_id)],\n",
    "                metrics=[accuracy],\n",
    "               )"
   ]
  },
  {
   "cell_type": "code",
   "execution_count": null,
   "metadata": {},
   "outputs": [
    {
     "data": {
      "text/plain": [
       "RobertaForSequenceClassification (Input shape: 64 x 150)\n",
       "================================================================\n",
       "Layer (type)         Output Shape         Param #    Trainable \n",
       "================================================================\n",
       "Embedding            64 x 150 x 768       38,603,520 False     \n",
       "________________________________________________________________\n",
       "Embedding            64 x 150 x 768       394,752    False     \n",
       "________________________________________________________________\n",
       "Embedding            64 x 150 x 768       768        False     \n",
       "________________________________________________________________\n",
       "LayerNorm            64 x 150 x 768       1,536      False     \n",
       "________________________________________________________________\n",
       "Dropout              64 x 150 x 768       0          False     \n",
       "________________________________________________________________\n",
       "Linear               64 x 150 x 768       590,592    False     \n",
       "________________________________________________________________\n",
       "Linear               64 x 150 x 768       590,592    False     \n",
       "________________________________________________________________\n",
       "Linear               64 x 150 x 768       590,592    False     \n",
       "________________________________________________________________\n",
       "Dropout              64 x 12 x 150 x 150  0          False     \n",
       "________________________________________________________________\n",
       "Linear               64 x 150 x 768       590,592    False     \n",
       "________________________________________________________________\n",
       "LayerNorm            64 x 150 x 768       1,536      False     \n",
       "________________________________________________________________\n",
       "Dropout              64 x 150 x 768       0          False     \n",
       "________________________________________________________________\n",
       "Linear               64 x 150 x 3072      2,362,368  False     \n",
       "________________________________________________________________\n",
       "Linear               64 x 150 x 768       2,360,064  False     \n",
       "________________________________________________________________\n",
       "LayerNorm            64 x 150 x 768       1,536      False     \n",
       "________________________________________________________________\n",
       "Dropout              64 x 150 x 768       0          False     \n",
       "________________________________________________________________\n",
       "Linear               64 x 150 x 768       590,592    False     \n",
       "________________________________________________________________\n",
       "Linear               64 x 150 x 768       590,592    False     \n",
       "________________________________________________________________\n",
       "Linear               64 x 150 x 768       590,592    False     \n",
       "________________________________________________________________\n",
       "Dropout              64 x 12 x 150 x 150  0          False     \n",
       "________________________________________________________________\n",
       "Linear               64 x 150 x 768       590,592    False     \n",
       "________________________________________________________________\n",
       "LayerNorm            64 x 150 x 768       1,536      False     \n",
       "________________________________________________________________\n",
       "Dropout              64 x 150 x 768       0          False     \n",
       "________________________________________________________________\n",
       "Linear               64 x 150 x 3072      2,362,368  False     \n",
       "________________________________________________________________\n",
       "Linear               64 x 150 x 768       2,360,064  False     \n",
       "________________________________________________________________\n",
       "LayerNorm            64 x 150 x 768       1,536      False     \n",
       "________________________________________________________________\n",
       "Dropout              64 x 150 x 768       0          False     \n",
       "________________________________________________________________\n",
       "Linear               64 x 150 x 768       590,592    False     \n",
       "________________________________________________________________\n",
       "Linear               64 x 150 x 768       590,592    False     \n",
       "________________________________________________________________\n",
       "Linear               64 x 150 x 768       590,592    False     \n",
       "________________________________________________________________\n",
       "Dropout              64 x 12 x 150 x 150  0          False     \n",
       "________________________________________________________________\n",
       "Linear               64 x 150 x 768       590,592    False     \n",
       "________________________________________________________________\n",
       "LayerNorm            64 x 150 x 768       1,536      False     \n",
       "________________________________________________________________\n",
       "Dropout              64 x 150 x 768       0          False     \n",
       "________________________________________________________________\n",
       "Linear               64 x 150 x 3072      2,362,368  False     \n",
       "________________________________________________________________\n",
       "Linear               64 x 150 x 768       2,360,064  False     \n",
       "________________________________________________________________\n",
       "LayerNorm            64 x 150 x 768       1,536      False     \n",
       "________________________________________________________________\n",
       "Dropout              64 x 150 x 768       0          False     \n",
       "________________________________________________________________\n",
       "Linear               64 x 150 x 768       590,592    False     \n",
       "________________________________________________________________\n",
       "Linear               64 x 150 x 768       590,592    False     \n",
       "________________________________________________________________\n",
       "Linear               64 x 150 x 768       590,592    False     \n",
       "________________________________________________________________\n",
       "Dropout              64 x 12 x 150 x 150  0          False     \n",
       "________________________________________________________________\n",
       "Linear               64 x 150 x 768       590,592    False     \n",
       "________________________________________________________________\n",
       "LayerNorm            64 x 150 x 768       1,536      False     \n",
       "________________________________________________________________\n",
       "Dropout              64 x 150 x 768       0          False     \n",
       "________________________________________________________________\n",
       "Linear               64 x 150 x 3072      2,362,368  False     \n",
       "________________________________________________________________\n",
       "Linear               64 x 150 x 768       2,360,064  False     \n",
       "________________________________________________________________\n",
       "LayerNorm            64 x 150 x 768       1,536      False     \n",
       "________________________________________________________________\n",
       "Dropout              64 x 150 x 768       0          False     \n",
       "________________________________________________________________\n",
       "Linear               64 x 150 x 768       590,592    False     \n",
       "________________________________________________________________\n",
       "Linear               64 x 150 x 768       590,592    False     \n",
       "________________________________________________________________\n",
       "Linear               64 x 150 x 768       590,592    False     \n",
       "________________________________________________________________\n",
       "Dropout              64 x 12 x 150 x 150  0          False     \n",
       "________________________________________________________________\n",
       "Linear               64 x 150 x 768       590,592    False     \n",
       "________________________________________________________________\n",
       "LayerNorm            64 x 150 x 768       1,536      False     \n",
       "________________________________________________________________\n",
       "Dropout              64 x 150 x 768       0          False     \n",
       "________________________________________________________________\n",
       "Linear               64 x 150 x 3072      2,362,368  False     \n",
       "________________________________________________________________\n",
       "Linear               64 x 150 x 768       2,360,064  False     \n",
       "________________________________________________________________\n",
       "LayerNorm            64 x 150 x 768       1,536      False     \n",
       "________________________________________________________________\n",
       "Dropout              64 x 150 x 768       0          False     \n",
       "________________________________________________________________\n",
       "Linear               64 x 150 x 768       590,592    False     \n",
       "________________________________________________________________\n",
       "Linear               64 x 150 x 768       590,592    False     \n",
       "________________________________________________________________\n",
       "Linear               64 x 150 x 768       590,592    False     \n",
       "________________________________________________________________\n",
       "Dropout              64 x 12 x 150 x 150  0          False     \n",
       "________________________________________________________________\n",
       "Linear               64 x 150 x 768       590,592    False     \n",
       "________________________________________________________________\n",
       "LayerNorm            64 x 150 x 768       1,536      False     \n",
       "________________________________________________________________\n",
       "Dropout              64 x 150 x 768       0          False     \n",
       "________________________________________________________________\n",
       "Linear               64 x 150 x 3072      2,362,368  False     \n",
       "________________________________________________________________\n",
       "Linear               64 x 150 x 768       2,360,064  False     \n",
       "________________________________________________________________\n",
       "LayerNorm            64 x 150 x 768       1,536      False     \n",
       "________________________________________________________________\n",
       "Dropout              64 x 150 x 768       0          False     \n",
       "________________________________________________________________\n",
       "Linear               64 x 150 x 768       590,592    False     \n",
       "________________________________________________________________\n",
       "Linear               64 x 150 x 768       590,592    False     \n",
       "________________________________________________________________\n",
       "Linear               64 x 150 x 768       590,592    False     \n",
       "________________________________________________________________\n",
       "Dropout              64 x 12 x 150 x 150  0          False     \n",
       "________________________________________________________________\n",
       "Linear               64 x 150 x 768       590,592    False     \n",
       "________________________________________________________________\n",
       "LayerNorm            64 x 150 x 768       1,536      False     \n",
       "________________________________________________________________\n",
       "Dropout              64 x 150 x 768       0          False     \n",
       "________________________________________________________________\n",
       "Linear               64 x 150 x 3072      2,362,368  False     \n",
       "________________________________________________________________\n",
       "Linear               64 x 150 x 768       2,360,064  False     \n",
       "________________________________________________________________\n",
       "LayerNorm            64 x 150 x 768       1,536      False     \n",
       "________________________________________________________________\n",
       "Dropout              64 x 150 x 768       0          False     \n",
       "________________________________________________________________\n",
       "Linear               64 x 150 x 768       590,592    False     \n",
       "________________________________________________________________\n",
       "Linear               64 x 150 x 768       590,592    False     \n",
       "________________________________________________________________\n",
       "Linear               64 x 150 x 768       590,592    False     \n",
       "________________________________________________________________\n",
       "Dropout              64 x 12 x 150 x 150  0          False     \n",
       "________________________________________________________________\n",
       "Linear               64 x 150 x 768       590,592    False     \n",
       "________________________________________________________________\n",
       "LayerNorm            64 x 150 x 768       1,536      False     \n",
       "________________________________________________________________\n",
       "Dropout              64 x 150 x 768       0          False     \n",
       "________________________________________________________________\n",
       "Linear               64 x 150 x 3072      2,362,368  False     \n",
       "________________________________________________________________\n",
       "Linear               64 x 150 x 768       2,360,064  False     \n",
       "________________________________________________________________\n",
       "LayerNorm            64 x 150 x 768       1,536      False     \n",
       "________________________________________________________________\n",
       "Dropout              64 x 150 x 768       0          False     \n",
       "________________________________________________________________\n",
       "Linear               64 x 150 x 768       590,592    False     \n",
       "________________________________________________________________\n",
       "Linear               64 x 150 x 768       590,592    False     \n",
       "________________________________________________________________\n",
       "Linear               64 x 150 x 768       590,592    False     \n",
       "________________________________________________________________\n",
       "Dropout              64 x 12 x 150 x 150  0          False     \n",
       "________________________________________________________________\n",
       "Linear               64 x 150 x 768       590,592    False     \n",
       "________________________________________________________________\n",
       "LayerNorm            64 x 150 x 768       1,536      False     \n",
       "________________________________________________________________\n",
       "Dropout              64 x 150 x 768       0          False     \n",
       "________________________________________________________________\n",
       "Linear               64 x 150 x 3072      2,362,368  False     \n",
       "________________________________________________________________\n",
       "Linear               64 x 150 x 768       2,360,064  False     \n",
       "________________________________________________________________\n",
       "LayerNorm            64 x 150 x 768       1,536      False     \n",
       "________________________________________________________________\n",
       "Dropout              64 x 150 x 768       0          False     \n",
       "________________________________________________________________\n",
       "Linear               64 x 150 x 768       590,592    False     \n",
       "________________________________________________________________\n",
       "Linear               64 x 150 x 768       590,592    False     \n",
       "________________________________________________________________\n",
       "Linear               64 x 150 x 768       590,592    False     \n",
       "________________________________________________________________\n",
       "Dropout              64 x 12 x 150 x 150  0          False     \n",
       "________________________________________________________________\n",
       "Linear               64 x 150 x 768       590,592    False     \n",
       "________________________________________________________________\n",
       "LayerNorm            64 x 150 x 768       1,536      False     \n",
       "________________________________________________________________\n",
       "Dropout              64 x 150 x 768       0          False     \n",
       "________________________________________________________________\n",
       "Linear               64 x 150 x 3072      2,362,368  False     \n",
       "________________________________________________________________\n",
       "Linear               64 x 150 x 768       2,360,064  False     \n",
       "________________________________________________________________\n",
       "LayerNorm            64 x 150 x 768       1,536      False     \n",
       "________________________________________________________________\n",
       "Dropout              64 x 150 x 768       0          False     \n",
       "________________________________________________________________\n",
       "Linear               64 x 150 x 768       590,592    False     \n",
       "________________________________________________________________\n",
       "Linear               64 x 150 x 768       590,592    False     \n",
       "________________________________________________________________\n",
       "Linear               64 x 150 x 768       590,592    False     \n",
       "________________________________________________________________\n",
       "Dropout              64 x 12 x 150 x 150  0          False     \n",
       "________________________________________________________________\n",
       "Linear               64 x 150 x 768       590,592    False     \n",
       "________________________________________________________________\n",
       "LayerNorm            64 x 150 x 768       1,536      False     \n",
       "________________________________________________________________\n",
       "Dropout              64 x 150 x 768       0          False     \n",
       "________________________________________________________________\n",
       "Linear               64 x 150 x 3072      2,362,368  False     \n",
       "________________________________________________________________\n",
       "Linear               64 x 150 x 768       2,360,064  False     \n",
       "________________________________________________________________\n",
       "LayerNorm            64 x 150 x 768       1,536      False     \n",
       "________________________________________________________________\n",
       "Dropout              64 x 150 x 768       0          False     \n",
       "________________________________________________________________\n",
       "Linear               64 x 150 x 768       590,592    False     \n",
       "________________________________________________________________\n",
       "Linear               64 x 150 x 768       590,592    False     \n",
       "________________________________________________________________\n",
       "Linear               64 x 150 x 768       590,592    False     \n",
       "________________________________________________________________\n",
       "Dropout              64 x 12 x 150 x 150  0          False     \n",
       "________________________________________________________________\n",
       "Linear               64 x 150 x 768       590,592    False     \n",
       "________________________________________________________________\n",
       "LayerNorm            64 x 150 x 768       1,536      False     \n",
       "________________________________________________________________\n",
       "Dropout              64 x 150 x 768       0          False     \n",
       "________________________________________________________________\n",
       "Linear               64 x 150 x 3072      2,362,368  False     \n",
       "________________________________________________________________\n",
       "Linear               64 x 150 x 768       2,360,064  False     \n",
       "________________________________________________________________\n",
       "LayerNorm            64 x 150 x 768       1,536      False     \n",
       "________________________________________________________________\n",
       "Dropout              64 x 150 x 768       0          False     \n",
       "________________________________________________________________\n",
       "Linear               64 x 768             590,592    False     \n",
       "________________________________________________________________\n",
       "Tanh                 64 x 768             0          False     \n",
       "________________________________________________________________\n",
       "Linear               64 x 768             590,592    True      \n",
       "________________________________________________________________\n",
       "Dropout              64 x 768             0          False     \n",
       "________________________________________________________________\n",
       "Linear               64 x 2               1,538      True      \n",
       "________________________________________________________________\n",
       "\n",
       "Total params: 125,237,762\n",
       "Total trainable params: 592,130\n",
       "Total non-trainable params: 124,645,632\n",
       "\n",
       "Optimizer used: <function ranger at 0x7fcdb00ab950>\n",
       "Loss function: FlattenedLoss of CrossEntropyLoss()\n",
       "\n",
       "Model frozen up to parameter group number 14\n",
       "\n",
       "Callbacks:\n",
       "  - TrainEvalCallback\n",
       "  - Recorder\n",
       "  - ProgressCallback\n",
       "  - BertSeqClassificationCallback"
      ]
     },
     "execution_count": null,
     "metadata": {},
     "output_type": "execute_result"
    }
   ],
   "source": [
    "learn.freeze_to(-1)\n",
    "learn.summary()"
   ]
  },
  {
   "cell_type": "code",
   "execution_count": null,
   "metadata": {},
   "outputs": [],
   "source": [
    "# learn.lr_find()"
   ]
  },
  {
   "cell_type": "code",
   "execution_count": null,
   "metadata": {},
   "outputs": [
    {
     "data": {
      "text/html": [
       "<table border=\"1\" class=\"dataframe\">\n",
       "  <thead>\n",
       "    <tr style=\"text-align: left;\">\n",
       "      <th>epoch</th>\n",
       "      <th>train_loss</th>\n",
       "      <th>valid_loss</th>\n",
       "      <th>accuracy</th>\n",
       "      <th>time</th>\n",
       "    </tr>\n",
       "  </thead>\n",
       "  <tbody>\n",
       "    <tr>\n",
       "      <td>0</td>\n",
       "      <td>0.697571</td>\n",
       "      <td>0.688053</td>\n",
       "      <td>0.555000</td>\n",
       "      <td>00:05</td>\n",
       "    </tr>\n",
       "  </tbody>\n",
       "</table>"
      ],
      "text/plain": [
       "<IPython.core.display.HTML object>"
      ]
     },
     "metadata": {},
     "output_type": "display_data"
    }
   ],
   "source": [
    "learn.fit_one_cycle(1, 1e-2, moms=(0.8,0.7,0.8))"
   ]
  },
  {
   "cell_type": "code",
   "execution_count": null,
   "metadata": {},
   "outputs": [],
   "source": [
    "# learn.fit_one_cycle(5, 1e-2, moms=(0.8,0.7,0.8))"
   ]
  },
  {
   "cell_type": "code",
   "execution_count": null,
   "metadata": {},
   "outputs": [],
   "source": [
    "# learn.freeze_to(-3)\n",
    "# learn.fit_one_cycle(5, 1e-3, moms=(0.8,0.7,0.8))"
   ]
  },
  {
   "cell_type": "code",
   "execution_count": null,
   "metadata": {},
   "outputs": [
    {
     "data": {
      "text/html": [],
      "text/plain": [
       "<IPython.core.display.HTML object>"
      ]
     },
     "metadata": {},
     "output_type": "display_data"
    },
    {
     "data": {
      "text/html": [
       "<table border=\"1\" class=\"dataframe\">\n",
       "  <thead>\n",
       "    <tr style=\"text-align: right;\">\n",
       "      <th></th>\n",
       "      <th>text</th>\n",
       "      <th>category</th>\n",
       "      <th>category_</th>\n",
       "    </tr>\n",
       "  </thead>\n",
       "  <tbody>\n",
       "    <tr>\n",
       "      <th>0</th>\n",
       "      <td>&lt;s&gt;I love this movie. My friend Marcus and I were browsing the local Hastings because we had an urge to rent something we had never seen before and stumbled across this fine film. We had no idea what it was going to be about, but it turned out spectacular. 2 thumbs up. I liked how the film was shot, and the actors were very funny. If you are are looking for a funny movie that also makes you think I highly suggest you quickly run to your local video store and find this movie. I would tell you some of my favorite parts but that might ruin the film for you so I won't. This movie is definitely on my top 10 list of good movies. Do you really think Nothing is bouncy?&lt;/s&gt;</td>\n",
       "      <td>positive</td>\n",
       "      <td>negative</td>\n",
       "    </tr>\n",
       "    <tr>\n",
       "      <th>1</th>\n",
       "      <td>&lt;s&gt;To be honest i had heard this was pretty bad before i decided to watch it, but i'm never one to let others influence my viewings, in fact i'm more likely to watch something out of defiance!. Bullwhip had one thing going for me before the viewing anyway, the fact that Rhonda Fleming and those gorgeous eyes was in it had me interested right away. The picture isn't very good, and is in fact very morally dubious, all the characters are corrupt and shifty in one way shape or form, all motivated by greed or egocentric victories, this is all well and good if the surrounding film can do justice to a bunch of despicable people and create a taut climax shuddering picture. Sadly it doesn't</td>\n",
       "      <td>negative</td>\n",
       "      <td>negative</td>\n",
       "    </tr>\n",
       "    <tr>\n",
       "      <th>2</th>\n",
       "      <td>&lt;s&gt;\"Cavemen\" exceeded my expectations, and not in a good way. It was even worse than I thought it would be. Basically, here's the show: The Cavemen are an alternate race, they face prejudice, etc. Quite possibly the stupidest idea ever created; almost being worthy of jail time for the writers. One show featured the cavemen going into a club, trying to pick up girls, and then nothing else happened. It was reminiscent of listening to a 22 minute Andy Rooney dialog, followed by death by steak knives via midget cannibals. For those who have not seen this show, here's an example of the dialog: \"You're sure you're okay with going out with a caveman.\" \"</td>\n",
       "      <td>negative</td>\n",
       "      <td>negative</td>\n",
       "    </tr>\n",
       "    <tr>\n",
       "      <th>3</th>\n",
       "      <td>&lt;s&gt;This has got to be one of my very favorite Twilight Zone episodes, primarily for the portrayal of two lonely souls in a post-apocalyptic environment.&lt;br /&gt;&lt;br /&gt;The cobweb-strewn shops and rubble-laden streets are eerie in that particular way the Twilight Zone does best.&lt;br /&gt;&lt;br /&gt;While the parable can be a bit heavy-handed by today's drama standards, it is an excellent one - using the setting to make a statement relevant to the human experience, as well as geopolitics, in a way that is timeless. The entire drama rests solely on the shoulders of Mr. Bronson and Ms. Montgomery, who don't disappoint. (May they both rest in peace.)&lt;br /&gt;&lt;br</td>\n",
       "      <td>positive</td>\n",
       "      <td>negative</td>\n",
       "    </tr>\n",
       "    <tr>\n",
       "      <th>4</th>\n",
       "      <td>&lt;s&gt;This is one of those movies that made me feel strongly for the need of making movies at all. Generally speaking, I am a fan of movies based on worthy true stories. And this one is GREAT! Besides Meryl's performance which has gained a lot of recognition and praise, the movie's greatest asset is the story it is based on. The riveting tale of a couple who suffer social and legal torture, after having undergone enormous emotional pain at the unexpected and brutal death of their infant child is really an eye-opening fable that exposes the inhumane side of fellow humans, and uncovers the barbarism of a very refined and lawful society. It is interesting to see how people who consider themselves as kind and intelligent people (the</td>\n",
       "      <td>positive</td>\n",
       "      <td>negative</td>\n",
       "    </tr>\n",
       "    <tr>\n",
       "      <th>5</th>\n",
       "      <td>&lt;s&gt;Even though the book wasn't strictly accurate to the real situation it described it still carried a sense of Japan. I find it hard to believe that anyone who was involved in making this film had ever been to japan as it didn't feel Japanese in the slightest. Almost everything about it was terrible. I will admit the actors were generally quite good but couldn't stand a chance of saving it. Before the film started I was surprised that there were only ten people in the cinema on a Friday night shortly after the movie had opened in Japan. 30 minutes in I was amazed they stayed. I stayed so I would have the right to criticize it. The whole movie was punctuated my groans and suppressed laughs of disbelief from my Japanese girlfriend. Everyone</td>\n",
       "      <td>negative</td>\n",
       "      <td>negative</td>\n",
       "    </tr>\n",
       "    <tr>\n",
       "      <th>6</th>\n",
       "      <td>&lt;s&gt;The first time I ever saw this movie was back in the 1980s as a wee lad. My dad actually recorded it off the TV. I must have watched is over 20 times, before the relatively recent release on DVD.&lt;br /&gt;&lt;br /&gt;I of course bought and watched the DVD and was taken aback by how much the dialogue had changed. In the first version, which I still have on VHS, the mood of the film, thanks to the dialogue, was actually very dark. However the new version, featuring Van Der Beek et al, is more comic.&lt;br /&gt;&lt;br /&gt;To put it another way, it's like watching the original US release of Akira with that dub, before watching the remastered version with the</td>\n",
       "      <td>positive</td>\n",
       "      <td>negative</td>\n",
       "    </tr>\n",
       "    <tr>\n",
       "      <th>7</th>\n",
       "      <td>&lt;s&gt;This movie had good intentions and a good story to work with. The director and screenwriter of this movie failed miserably and created a dull, boring filmstrip that made me feel like I was back in Mr. Hartford's 8th grade Social Studies class -- way back in 67.&lt;br /&gt;&lt;br /&gt;What a waste, will somebody please take this story and make a real movie out of it - the story deserves it.&lt;br /&gt;&lt;br /&gt;Every time a scene had potential, all we were left with were a few clichés, combined with black and white footage that they probably got from The History Channel to show the action. Shameful.&lt;br /&gt;&lt;br /&gt;Ossie Davis was the only bright light in this dull fest</td>\n",
       "      <td>negative</td>\n",
       "      <td>negative</td>\n",
       "    </tr>\n",
       "    <tr>\n",
       "      <th>8</th>\n",
       "      <td>&lt;s&gt;For those fans of Laurel and Hardy, the 1940s and beyond were a very sad time for the team. Their contracts with Hal Roach Studios had expired and now they were \"free agents\"--able to work for any studio who offered them a job. Unfortunately, Fox, RKO, MGM (without Roach) and even a French film company who hired the boys had absolutely no touch for their comedic talents. Plus, Stan and Ollie were a lot older and seeing these geriatric men taking pratfalls seemed sad, not particularly funny. Stan looked very ragged and Ollie's weight had ballooned up to the point where he could barely walk--and so it made me feel uncomfortable laughing at their very, very</td>\n",
       "      <td>negative</td>\n",
       "      <td>negative</td>\n",
       "    </tr>\n",
       "    <tr>\n",
       "      <th>9</th>\n",
       "      <td>&lt;s&gt;Name just says it all. I watched this movie with my dad when it came out and having served in Korea he had great admiration for the man. The disappointing thing about this film is that it only concentrate on a short period of the man's life - interestingly enough the man's entire life would have made such an epic bio-pic that it is staggering to imagine the cost for production.&lt;br /&gt;&lt;br /&gt;Some posters elude to the flawed characteristics about the man, which are cheap shots. The theme of the movie \"Duty, Honor, Country\" are not just mere words blathered from the lips of a high-brassed officer - it is the deep declaration of one man's total devotion to his country.&lt;br /&gt;&lt;</td>\n",
       "      <td>positive</td>\n",
       "      <td>negative</td>\n",
       "    </tr>\n",
       "  </tbody>\n",
       "</table>"
      ],
      "text/plain": [
       "<IPython.core.display.HTML object>"
      ]
     },
     "metadata": {},
     "output_type": "display_data"
    }
   ],
   "source": [
    "learn.show_results()"
   ]
  },
  {
   "cell_type": "markdown",
   "metadata": {},
   "source": [
    "## Export"
   ]
  },
  {
   "cell_type": "code",
   "execution_count": null,
   "metadata": {},
   "outputs": [],
   "source": [
    "# # fastai model\n",
    "# learn.save(f'{model_name}_final')"
   ]
  },
  {
   "cell_type": "code",
   "execution_count": null,
   "metadata": {},
   "outputs": [],
   "source": [
    "# # transformeres model\n",
    "# Path('./models/transformers_model').mkdir(exist_ok=True)\n",
    "# learn.model.save_pretrained('./models/transformers_model')"
   ]
  },
  {
   "cell_type": "code",
   "execution_count": null,
   "metadata": {},
   "outputs": [],
   "source": [
    "# Path('./models/tokenizer').mkdir(exist_ok=True)\n",
    "# tokenizer.save_pretrained('./models/tokenizer')"
   ]
  },
  {
   "cell_type": "code",
   "execution_count": null,
   "metadata": {},
   "outputs": [],
   "source": [
    "# transform_info = {'category_map': list(learn.dbunch.vocab), 'max_len': max_len}\n",
    "# transform_info = json.dumps(transform_info)\n",
    "# Path('./models/transform_info.json').write_text(transform_info)"
   ]
  },
  {
   "cell_type": "markdown",
   "metadata": {},
   "source": [
    "## Inference"
   ]
  },
  {
   "cell_type": "code",
   "execution_count": null,
   "metadata": {},
   "outputs": [],
   "source": [
    "# inference_model = RobertaForSequenceClassification.from_pretrained('./models/transformers_model')\n",
    "# inference_model.cuda()\n",
    "# inference_model.eval()"
   ]
  },
  {
   "cell_type": "code",
   "execution_count": null,
   "metadata": {},
   "outputs": [],
   "source": [
    "# dbch = get_databunch(dsrc, 64)\n",
    "# for x, y in dbunch.train_dl:\n",
    "#     pred, attention = inference_model(x)\n",
    "#     pred = pred.argmax(-1)\n",
    "#     print((pred == y).float().mean())\n",
    "#     break"
   ]
  },
  {
   "cell_type": "markdown",
   "metadata": {},
   "source": [
    "## Client inference"
   ]
  },
  {
   "cell_type": "code",
   "execution_count": null,
   "metadata": {},
   "outputs": [],
   "source": [
    "# inference_model = RobertaForSequenceClassification.from_pretrained('./models/transformers_model')\n",
    "# model.config.output_attentions = True\n",
    "# inference_model.eval()"
   ]
  },
  {
   "cell_type": "code",
   "execution_count": null,
   "metadata": {},
   "outputs": [],
   "source": [
    "# tokenizer = RobertaTokenizer.from_pretrained('./models/tokenizer')\n",
    "# transform_info = json.loads(Path('./models/transform_info.json').read_text())\n",
    "# category_map, max_len = transform_info['category_map'], transform_info['max_len']"
   ]
  },
  {
   "cell_type": "code",
   "execution_count": null,
   "metadata": {},
   "outputs": [],
   "source": [
    "# test_sentences = ['What a suck movie!!!', 'Feels like good. Nice movie.']"
   ]
  },
  {
   "cell_type": "code",
   "execution_count": null,
   "metadata": {},
   "outputs": [],
   "source": [
    "# with torch.no_grad():\n",
    "#     for sentence in test_sentences:\n",
    "#         numeric_sentence = tokenizer.encode(sentence)\n",
    "#         x = torch.tensor([numeric_sentence])\n",
    "#         pred, attention = inference_model(x)\n",
    "#         pred = pred.argmax(-1)\n",
    "#         print(category_map[pred])\n",
    "        \n",
    "# #         attention = attention[-1][0][-1][0]\n",
    "# #         tok_sentence = tokenizer.convert_ids_to_tokens(numeric_sentence)\n",
    "# #         print(tok_sentence, attention)"
   ]
  }
 ],
 "metadata": {
  "kernelspec": {
   "display_name": "Python 3",
   "language": "python",
   "name": "python3"
  }
 },
 "nbformat": 4,
 "nbformat_minor": 2
}
