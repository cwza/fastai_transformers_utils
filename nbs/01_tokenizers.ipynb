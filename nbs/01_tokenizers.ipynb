{
 "cells": [
  {
   "cell_type": "code",
   "execution_count": null,
   "metadata": {},
   "outputs": [],
   "source": [
    "%%capture\n",
    "# export\n",
    "from typing import *\n",
    "from fastai2.basics import *\n",
    "\n",
    "from transformers import GPT2Tokenizer, PreTrainedTokenizer, AutoTokenizer"
   ]
  },
  {
   "cell_type": "code",
   "execution_count": null,
   "metadata": {},
   "outputs": [],
   "source": [
    "# default_exp tokenizers"
   ]
  },
  {
   "cell_type": "markdown",
   "metadata": {},
   "source": [
    "# Tokenizers\n",
    ">"
   ]
  },
  {
   "cell_type": "markdown",
   "metadata": {},
   "source": [
    "## TransformersTokenizer"
   ]
  },
  {
   "cell_type": "code",
   "execution_count": null,
   "metadata": {},
   "outputs": [],
   "source": [
    "#export\n",
    "class TransformersTokenizer():\n",
    "    ''' fastai want the tokenizer can handle list of string.\n",
    "        use in parallel_gen() '''\n",
    "    def __init__(self, tokenizer: PreTrainedTokenizer):\n",
    "        self.tokenizer = tokenizer\n",
    "    def __call__(self, items: List[str]):\n",
    "        return map(self.tokenizer.tokenize, items)"
   ]
  },
  {
   "cell_type": "code",
   "execution_count": null,
   "metadata": {},
   "outputs": [
    {
     "data": {
      "application/vnd.jupyter.widget-view+json": {
       "model_id": "10230753e250472ea9d8cccbf83c3f41",
       "version_major": 2,
       "version_minor": 0
      },
      "text/plain": [
       "HBox(children=(IntProgress(value=0, description='Downloading', max=313, style=ProgressStyle(description_width=…"
      ]
     },
     "metadata": {},
     "output_type": "display_data"
    },
    {
     "name": "stdout",
     "output_type": "stream",
     "text": [
      "\n"
     ]
    },
    {
     "data": {
      "application/vnd.jupyter.widget-view+json": {
       "model_id": "765a9ec6f89f47ebbf542cc7b52c5045",
       "version_major": 2,
       "version_minor": 0
      },
      "text/plain": [
       "HBox(children=(IntProgress(value=0, description='Downloading', max=231508, style=ProgressStyle(description_wid…"
      ]
     },
     "metadata": {},
     "output_type": "display_data"
    },
    {
     "name": "stdout",
     "output_type": "stream",
     "text": [
      "\n"
     ]
    }
   ],
   "source": [
    "tokenizer = AutoTokenizer.from_pretrained('bert-base-uncased')\n",
    "\n",
    "texts = ['This is a test', 'Just test']\n",
    "transfomersTokenizer = TransformersTokenizer(tokenizer)\n",
    "tok_texts = list(transfomersTokenizer(texts))\n",
    "\n",
    "test_eq(tok_texts, [['this', 'is', 'a', 'test'], ['just', 'test']])"
   ]
  },
  {
   "cell_type": "code",
   "execution_count": null,
   "metadata": {},
   "outputs": [
    {
     "data": {
      "text/html": [],
      "text/plain": [
       "<IPython.core.display.HTML object>"
      ]
     },
     "metadata": {},
     "output_type": "display_data"
    }
   ],
   "source": [
    "texts = ['This is a test', 'Just test']\n",
    "# parallel_gen will return generator of (0, ['this', 'is', 'a', 'test']), (1, ['just', 'test'])\n",
    "tok_texts = L(parallel_gen(TransformersTokenizer, texts, tokenizer=tokenizer)).sorted().itemgot(1)\n",
    "\n",
    "test_eq(tok_texts, [['this', 'is', 'a', 'test'],['just', 'test']])"
   ]
  },
  {
   "cell_type": "markdown",
   "metadata": {},
   "source": [
    "## GPT2DecoderTokenizer"
   ]
  },
  {
   "cell_type": "code",
   "execution_count": null,
   "metadata": {},
   "outputs": [],
   "source": [
    "# export\n",
    "class GPT2DecoderTokenizer(GPT2Tokenizer):\n",
    "    '''\n",
    "        Add special tokens: <|bos|>, <|pad|>.\n",
    "        Add <|bos|> to the begin of the tokenized string and add <|endoftext|> to the end of the tokenized string.\n",
    "        For the decoder of machine translation\n",
    "    '''\n",
    "    def __init__(self, *inputs, **kwargs):\n",
    "        super().__init__(*inputs, **kwargs)\n",
    "        special_tokens_map = dict(bos_token='<|bos|>', pad_token='<|pad|>')\n",
    "        self.add_special_tokens(special_tokens_map)\n",
    "    def _tokenize(self, text, add_prefix_space=False):\n",
    "        bpe_tokens = super()._tokenize(text, add_prefix_space=add_prefix_space)\n",
    "        return [self.bos_token] + bpe_tokens + [self.eos_token]"
   ]
  },
  {
   "cell_type": "code",
   "execution_count": null,
   "metadata": {},
   "outputs": [
    {
     "data": {
      "application/vnd.jupyter.widget-view+json": {
       "model_id": "74b3c2fae3944ebca58117a29795400f",
       "version_major": 2,
       "version_minor": 0
      },
      "text/plain": [
       "HBox(children=(IntProgress(value=0, description='Downloading', max=1042301, style=ProgressStyle(description_wi…"
      ]
     },
     "metadata": {},
     "output_type": "display_data"
    },
    {
     "name": "stdout",
     "output_type": "stream",
     "text": [
      "\n"
     ]
    },
    {
     "data": {
      "application/vnd.jupyter.widget-view+json": {
       "model_id": "4faa1ac3c505419f874e56b1f46dc564",
       "version_major": 2,
       "version_minor": 0
      },
      "text/plain": [
       "HBox(children=(IntProgress(value=0, description='Downloading', max=456318, style=ProgressStyle(description_wid…"
      ]
     },
     "metadata": {},
     "output_type": "display_data"
    },
    {
     "name": "stdout",
     "output_type": "stream",
     "text": [
      "\n"
     ]
    }
   ],
   "source": [
    "tokenizer = GPT2DecoderTokenizer.from_pretrained('distilgpt2')"
   ]
  },
  {
   "cell_type": "code",
   "execution_count": null,
   "metadata": {},
   "outputs": [],
   "source": [
    "sentence = 'The dog.'\n",
    "test_eq( tokenizer.tokenize(sentence), ['<|bos|>', 'The', 'Ġdog', '.', '<|endoftext|>'] )\n",
    "test_eq( tokenizer.encode(sentence), [50257, 464, 3290, 13, 50256] )\n",
    "test_eq( tokenizer.encode(sentence, max_length=6, pad_to_max_length=True), [50257, 464, 3290, 13, 50256, 50258] )"
   ]
  },
  {
   "cell_type": "markdown",
   "metadata": {},
   "source": [
    "## Export -"
   ]
  },
  {
   "cell_type": "code",
   "execution_count": null,
   "metadata": {},
   "outputs": [
    {
     "name": "stdout",
     "output_type": "stream",
     "text": [
      "Converted 00_core.ipynb.\n",
      "Converted 01_tokenizers.ipynb.\n",
      "Converted 02_transforms.ipynb.\n",
      "Converted 03_model_splits.ipynb.\n",
      "Converted 04_callbacks.ipynb.\n",
      "Converted 05_GeneratedLM.ipynb.\n",
      "Converted 99a_example_roberta_classification.ipynb.\n",
      "Converted 99b_example_gpt2_lm.ipynb.\n",
      "Converted 99c_example_GeneratedLM.ipynb.\n",
      "Converted index.ipynb.\n"
     ]
    }
   ],
   "source": [
    "# hide\n",
    "from nbdev.export import notebook2script\n",
    "notebook2script()"
   ]
  },
  {
   "cell_type": "code",
   "execution_count": null,
   "metadata": {},
   "outputs": [],
   "source": []
  }
 ],
 "metadata": {
  "kernelspec": {
   "display_name": "Python 3",
   "language": "python",
   "name": "python3"
  }
 },
 "nbformat": 4,
 "nbformat_minor": 4
}
